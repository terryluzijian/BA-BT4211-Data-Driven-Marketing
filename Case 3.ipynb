{
 "cells": [
  {
   "cell_type": "code",
   "execution_count": 1,
   "metadata": {
    "collapsed": true
   },
   "outputs": [],
   "source": [
    "import numpy as np\n",
    "import pandas as pd\n",
    "import matplotlib.pyplot as plt\n",
    "import seaborn as sns\n",
    "%matplotlib inline"
   ]
  },
  {
   "cell_type": "code",
   "execution_count": 2,
   "metadata": {
    "collapsed": false
   },
   "outputs": [
    {
     "name": "stdout",
     "output_type": "stream",
     "text": [
      "BT4211 Case 3 Assignment.pdf  QWE Inc._Data.xlsx\r\n",
      "Case 3.ipynb\r\n"
     ]
    }
   ],
   "source": [
    "ls"
   ]
  },
  {
   "cell_type": "code",
   "execution_count": 3,
   "metadata": {
    "collapsed": true
   },
   "outputs": [],
   "source": [
    "qwe_data = pd.read_excel(\"QWE Inc._Data.xlsx\")"
   ]
  },
  {
   "cell_type": "code",
   "execution_count": 4,
   "metadata": {
    "collapsed": false
   },
   "outputs": [
    {
     "name": "stdout",
     "output_type": "stream",
     "text": [
      "<class 'pandas.core.frame.DataFrame'>\n",
      "RangeIndex: 6347 entries, 0 to 6346\n",
      "Data columns (total 13 columns):\n",
      "cust_id                 6347 non-null int64\n",
      "cust_age                6347 non-null int64\n",
      "churn                   6347 non-null int64\n",
      "chiscore_nov            6347 non-null int64\n",
      "chiscore_nov_dec        6347 non-null int64\n",
      "suppcase_nov            6347 non-null int64\n",
      "suppcase_nov_dec        6347 non-null int64\n",
      "avgspriority_nov        6347 non-null float64\n",
      "avgspriority_nov_dec    6347 non-null float64\n",
      "logins_nov_dec          6347 non-null int64\n",
      "blogs_nov_dec           6347 non-null int64\n",
      "views_nov_dec           6347 non-null int64\n",
      "days_nov_dec            6347 non-null int64\n",
      "dtypes: float64(2), int64(11)\n",
      "memory usage: 644.7 KB\n"
     ]
    }
   ],
   "source": [
    "qwe_data.info()"
   ]
  },
  {
   "cell_type": "code",
   "execution_count": 5,
   "metadata": {
    "collapsed": false
   },
   "outputs": [
    {
     "data": {
      "text/html": [
       "<div>\n",
       "<table border=\"1\" class=\"dataframe\">\n",
       "  <thead>\n",
       "    <tr style=\"text-align: right;\">\n",
       "      <th></th>\n",
       "      <th>cust_id</th>\n",
       "      <th>cust_age</th>\n",
       "      <th>churn</th>\n",
       "      <th>chiscore_nov</th>\n",
       "      <th>chiscore_nov_dec</th>\n",
       "      <th>suppcase_nov</th>\n",
       "      <th>suppcase_nov_dec</th>\n",
       "      <th>avgspriority_nov</th>\n",
       "      <th>avgspriority_nov_dec</th>\n",
       "      <th>logins_nov_dec</th>\n",
       "      <th>blogs_nov_dec</th>\n",
       "      <th>views_nov_dec</th>\n",
       "      <th>days_nov_dec</th>\n",
       "    </tr>\n",
       "  </thead>\n",
       "  <tbody>\n",
       "    <tr>\n",
       "      <th>0</th>\n",
       "      <td>1</td>\n",
       "      <td>67</td>\n",
       "      <td>0</td>\n",
       "      <td>0</td>\n",
       "      <td>0</td>\n",
       "      <td>0</td>\n",
       "      <td>0</td>\n",
       "      <td>0.0</td>\n",
       "      <td>0.0</td>\n",
       "      <td>0</td>\n",
       "      <td>0</td>\n",
       "      <td>0</td>\n",
       "      <td>31</td>\n",
       "    </tr>\n",
       "    <tr>\n",
       "      <th>1</th>\n",
       "      <td>2</td>\n",
       "      <td>67</td>\n",
       "      <td>0</td>\n",
       "      <td>62</td>\n",
       "      <td>4</td>\n",
       "      <td>0</td>\n",
       "      <td>0</td>\n",
       "      <td>0.0</td>\n",
       "      <td>0.0</td>\n",
       "      <td>0</td>\n",
       "      <td>0</td>\n",
       "      <td>-16</td>\n",
       "      <td>31</td>\n",
       "    </tr>\n",
       "    <tr>\n",
       "      <th>2</th>\n",
       "      <td>3</td>\n",
       "      <td>55</td>\n",
       "      <td>0</td>\n",
       "      <td>0</td>\n",
       "      <td>0</td>\n",
       "      <td>0</td>\n",
       "      <td>0</td>\n",
       "      <td>0.0</td>\n",
       "      <td>0.0</td>\n",
       "      <td>0</td>\n",
       "      <td>0</td>\n",
       "      <td>0</td>\n",
       "      <td>31</td>\n",
       "    </tr>\n",
       "    <tr>\n",
       "      <th>3</th>\n",
       "      <td>4</td>\n",
       "      <td>63</td>\n",
       "      <td>0</td>\n",
       "      <td>231</td>\n",
       "      <td>1</td>\n",
       "      <td>1</td>\n",
       "      <td>-1</td>\n",
       "      <td>3.0</td>\n",
       "      <td>0.0</td>\n",
       "      <td>167</td>\n",
       "      <td>-8</td>\n",
       "      <td>21996</td>\n",
       "      <td>0</td>\n",
       "    </tr>\n",
       "    <tr>\n",
       "      <th>4</th>\n",
       "      <td>5</td>\n",
       "      <td>57</td>\n",
       "      <td>0</td>\n",
       "      <td>43</td>\n",
       "      <td>-1</td>\n",
       "      <td>0</td>\n",
       "      <td>0</td>\n",
       "      <td>0.0</td>\n",
       "      <td>0.0</td>\n",
       "      <td>0</td>\n",
       "      <td>0</td>\n",
       "      <td>9</td>\n",
       "      <td>31</td>\n",
       "    </tr>\n",
       "  </tbody>\n",
       "</table>\n",
       "</div>"
      ],
      "text/plain": [
       "   cust_id  cust_age  churn  chiscore_nov  chiscore_nov_dec  suppcase_nov  \\\n",
       "0        1        67      0             0                 0             0   \n",
       "1        2        67      0            62                 4             0   \n",
       "2        3        55      0             0                 0             0   \n",
       "3        4        63      0           231                 1             1   \n",
       "4        5        57      0            43                -1             0   \n",
       "\n",
       "   suppcase_nov_dec  avgspriority_nov  avgspriority_nov_dec  logins_nov_dec  \\\n",
       "0                 0               0.0                   0.0               0   \n",
       "1                 0               0.0                   0.0               0   \n",
       "2                 0               0.0                   0.0               0   \n",
       "3                -1               3.0                   0.0             167   \n",
       "4                 0               0.0                   0.0               0   \n",
       "\n",
       "   blogs_nov_dec  views_nov_dec  days_nov_dec  \n",
       "0              0              0            31  \n",
       "1              0            -16            31  \n",
       "2              0              0            31  \n",
       "3             -8          21996             0  \n",
       "4              0              9            31  "
      ]
     },
     "execution_count": 5,
     "metadata": {},
     "output_type": "execute_result"
    }
   ],
   "source": [
    "qwe_data.head(5)"
   ]
  },
  {
   "cell_type": "markdown",
   "metadata": {},
   "source": [
    "# Q1"
   ]
  },
  {
   "cell_type": "code",
   "execution_count": 6,
   "metadata": {
    "collapsed": false
   },
   "outputs": [
    {
     "name": "stderr",
     "output_type": "stream",
     "text": [
      "/Users/apple/anaconda/lib/python3.5/site-packages/statsmodels/nonparametric/kdetools.py:20: VisibleDeprecationWarning: using a non-integer number instead of an integer will result in an error in the future\n",
      "  y = X[:m/2+1] + np.r_[0,X[m/2+1:],0]*1j\n"
     ]
    },
    {
     "data": {
      "text/plain": [
       "<matplotlib.axes._subplots.AxesSubplot at 0x10bfddf60>"
      ]
     },
     "execution_count": 6,
     "metadata": {},
     "output_type": "execute_result"
    },
    {
     "data": {
      "image/png": "[encoded data removed]",
      "text/plain": [
       "<matplotlib.figure.Figure at 0x10c84f320>"
      ]
     },
     "metadata": {},
     "output_type": "display_data"
    }
   ],
   "source": [
    "fig, ax = plt.subplots(ncols=2, nrows=1)\n",
    "fig.set_size_inches(10.8, 5)\n",
    "sns.barplot(x=qwe_data[\"churn\"].value_counts().index, y=qwe_data[\"churn\"].value_counts(), ax=ax[0])\n",
    "sns.distplot(qwe_data[\"cust_age\"], ax=ax[1], label=\"Churn=0\", kde_kws={\"label\":\"\"})"
   ]
  },
  {
   "cell_type": "code",
   "execution_count": 7,
   "metadata": {
    "collapsed": false
   },
   "outputs": [
    {
     "data": {
      "text/plain": [
       "<matplotlib.axes._subplots.AxesSubplot at 0x10cc13518>"
      ]
     },
     "execution_count": 7,
     "metadata": {},
     "output_type": "execute_result"
    },
    {
     "data": {
      "image/png": "[encoded data removed]",
      "text/plain": [
       "<matplotlib.figure.Figure at 0x10bcbea90>"
      ]
     },
     "metadata": {},
     "output_type": "display_data"
    }
   ],
   "source": [
    "fig, ax = plt.subplots()\n",
    "fig.set_size_inches(5.4, 5)\n",
    "sns.boxplot(x=\"churn\", y=\"cust_age\", data=qwe_data)"
   ]
  },
  {
   "cell_type": "markdown",
   "metadata": {},
   "source": [
    "# Q2 "
   ]
  },
  {
   "cell_type": "code",
   "execution_count": 8,
   "metadata": {
    "collapsed": false
   },
   "outputs": [
    {
     "data": {
      "text/plain": [
       "LogisticRegression(C=1.0, class_weight=None, dual=False, fit_intercept=True,\n",
       "          intercept_scaling=1, max_iter=100, multi_class='ovr', n_jobs=1,\n",
       "          penalty='l2', random_state=None, solver='liblinear', tol=0.0001,\n",
       "          verbose=0, warm_start=False)"
      ]
     },
     "execution_count": 8,
     "metadata": {},
     "output_type": "execute_result"
    }
   ],
   "source": [
    "from sklearn.linear_model import LogisticRegression\n",
    "qwe_train_x = qwe_data.drop([\"cust_id\", \"churn\"], axis=1)\n",
    "qwe_train_y = qwe_data[\"churn\"]\n",
    "lm = LogisticRegression()\n",
    "lm.fit(qwe_train_x, qwe_train_y)"
   ]
  },
  {
   "cell_type": "code",
   "execution_count": 9,
   "metadata": {
    "collapsed": false
   },
   "outputs": [
    {
     "data": {
      "text/html": [
       "<div>\n",
       "<table border=\"1\" class=\"dataframe\">\n",
       "  <thead>\n",
       "    <tr style=\"text-align: right;\">\n",
       "      <th></th>\n",
       "      <th>coef</th>\n",
       "    </tr>\n",
       "  </thead>\n",
       "  <tbody>\n",
       "    <tr>\n",
       "      <th>suppcase_nov</th>\n",
       "      <td>-0.142187</td>\n",
       "    </tr>\n",
       "    <tr>\n",
       "      <th>avgspriority_nov_dec</th>\n",
       "      <td>-0.043287</td>\n",
       "    </tr>\n",
       "    <tr>\n",
       "      <th>chiscore_nov_dec</th>\n",
       "      <td>-0.010212</td>\n",
       "    </tr>\n",
       "    <tr>\n",
       "      <th>chiscore_nov</th>\n",
       "      <td>-0.004741</td>\n",
       "    </tr>\n",
       "    <tr>\n",
       "      <th>views_nov_dec</th>\n",
       "      <td>-0.000110</td>\n",
       "    </tr>\n",
       "    <tr>\n",
       "      <th>blogs_nov_dec</th>\n",
       "      <td>0.000275</td>\n",
       "    </tr>\n",
       "    <tr>\n",
       "      <th>logins_nov_dec</th>\n",
       "      <td>0.000280</td>\n",
       "    </tr>\n",
       "    <tr>\n",
       "      <th>avgspriority_nov</th>\n",
       "      <td>0.004805</td>\n",
       "    </tr>\n",
       "    <tr>\n",
       "      <th>cust_age</th>\n",
       "      <td>0.012203</td>\n",
       "    </tr>\n",
       "    <tr>\n",
       "      <th>days_nov_dec</th>\n",
       "      <td>0.016980</td>\n",
       "    </tr>\n",
       "    <tr>\n",
       "      <th>suppcase_nov_dec</th>\n",
       "      <td>0.160709</td>\n",
       "    </tr>\n",
       "  </tbody>\n",
       "</table>\n",
       "</div>"
      ],
      "text/plain": [
       "                          coef\n",
       "suppcase_nov         -0.142187\n",
       "avgspriority_nov_dec -0.043287\n",
       "chiscore_nov_dec     -0.010212\n",
       "chiscore_nov         -0.004741\n",
       "views_nov_dec        -0.000110\n",
       "blogs_nov_dec         0.000275\n",
       "logins_nov_dec        0.000280\n",
       "avgspriority_nov      0.004805\n",
       "cust_age              0.012203\n",
       "days_nov_dec          0.016980\n",
       "suppcase_nov_dec      0.160709"
      ]
     },
     "execution_count": 9,
     "metadata": {},
     "output_type": "execute_result"
    }
   ],
   "source": [
    "def coef_df(lm, train):\n",
    "    return pd.DataFrame(lm.coef_[0], train.columns, \n",
    "                        columns={\"coef\"}).sort_values(\"coef\")\n",
    "coef_df(lm, qwe_train_x)"
   ]
  },
  {
   "cell_type": "code",
   "execution_count": 10,
   "metadata": {
    "collapsed": false
   },
   "outputs": [
    {
     "data": {
      "text/html": [
       "<div>\n",
       "<table border=\"1\" class=\"dataframe\">\n",
       "  <thead>\n",
       "    <tr style=\"text-align: right;\">\n",
       "      <th></th>\n",
       "      <th>cust_age</th>\n",
       "      <th>churn</th>\n",
       "      <th>chiscore_nov</th>\n",
       "      <th>chiscore_nov_dec</th>\n",
       "      <th>suppcase_nov</th>\n",
       "      <th>suppcase_nov_dec</th>\n",
       "      <th>avgspriority_nov</th>\n",
       "      <th>avgspriority_nov_dec</th>\n",
       "      <th>logins_nov_dec</th>\n",
       "      <th>blogs_nov_dec</th>\n",
       "      <th>views_nov_dec</th>\n",
       "      <th>days_nov_dec</th>\n",
       "      <th>churn_prob</th>\n",
       "    </tr>\n",
       "    <tr>\n",
       "      <th>cust_id</th>\n",
       "      <th></th>\n",
       "      <th></th>\n",
       "      <th></th>\n",
       "      <th></th>\n",
       "      <th></th>\n",
       "      <th></th>\n",
       "      <th></th>\n",
       "      <th></th>\n",
       "      <th></th>\n",
       "      <th></th>\n",
       "      <th></th>\n",
       "      <th></th>\n",
       "      <th></th>\n",
       "    </tr>\n",
       "  </thead>\n",
       "  <tbody>\n",
       "    <tr>\n",
       "      <th>672.0</th>\n",
       "      <td>16.0</td>\n",
       "      <td>0.0</td>\n",
       "      <td>148.0</td>\n",
       "      <td>1.0</td>\n",
       "      <td>0.0</td>\n",
       "      <td>0.0</td>\n",
       "      <td>0.0</td>\n",
       "      <td>0.0</td>\n",
       "      <td>17.0</td>\n",
       "      <td>1.0</td>\n",
       "      <td>85.0</td>\n",
       "      <td>2.0</td>\n",
       "      <td>0.040151</td>\n",
       "    </tr>\n",
       "    <tr>\n",
       "      <th>354.0</th>\n",
       "      <td>13.0</td>\n",
       "      <td>0.0</td>\n",
       "      <td>139.0</td>\n",
       "      <td>-29.0</td>\n",
       "      <td>0.0</td>\n",
       "      <td>0.0</td>\n",
       "      <td>0.0</td>\n",
       "      <td>0.0</td>\n",
       "      <td>-4.0</td>\n",
       "      <td>1.0</td>\n",
       "      <td>244.0</td>\n",
       "      <td>-1.0</td>\n",
       "      <td>0.049235</td>\n",
       "    </tr>\n",
       "    <tr>\n",
       "      <th>5203.0</th>\n",
       "      <td>4.0</td>\n",
       "      <td>0.0</td>\n",
       "      <td>37.0</td>\n",
       "      <td>32.0</td>\n",
       "      <td>1.0</td>\n",
       "      <td>1.0</td>\n",
       "      <td>0.0</td>\n",
       "      <td>0.0</td>\n",
       "      <td>0.0</td>\n",
       "      <td>0.0</td>\n",
       "      <td>1.0</td>\n",
       "      <td>5.0</td>\n",
       "      <td>0.017685</td>\n",
       "    </tr>\n",
       "  </tbody>\n",
       "</table>\n",
       "</div>"
      ],
      "text/plain": [
       "         cust_age  churn  chiscore_nov  chiscore_nov_dec  suppcase_nov  \\\n",
       "cust_id                                                                  \n",
       "672.0        16.0    0.0         148.0               1.0           0.0   \n",
       "354.0        13.0    0.0         139.0             -29.0           0.0   \n",
       "5203.0        4.0    0.0          37.0              32.0           1.0   \n",
       "\n",
       "         suppcase_nov_dec  avgspriority_nov  avgspriority_nov_dec  \\\n",
       "cust_id                                                             \n",
       "672.0                 0.0               0.0                   0.0   \n",
       "354.0                 0.0               0.0                   0.0   \n",
       "5203.0                1.0               0.0                   0.0   \n",
       "\n",
       "         logins_nov_dec  blogs_nov_dec  views_nov_dec  days_nov_dec  \\\n",
       "cust_id                                                               \n",
       "672.0              17.0            1.0           85.0           2.0   \n",
       "354.0              -4.0            1.0          244.0          -1.0   \n",
       "5203.0              0.0            0.0            1.0           5.0   \n",
       "\n",
       "         churn_prob  \n",
       "cust_id              \n",
       "672.0      0.040151  \n",
       "354.0      0.049235  \n",
       "5203.0     0.017685  "
      ]
     },
     "execution_count": 10,
     "metadata": {},
     "output_type": "execute_result"
    }
   ],
   "source": [
    "selected = pd.DataFrame([qwe_data.loc[671], qwe_data.loc[353], qwe_data.loc[5202]])\n",
    "selected.set_index(\"cust_id\", inplace=True)\n",
    "prob = [lm.predict_proba(qwe_train_x.loc[selected.index])[0][1],\n",
    "        lm.predict_proba(qwe_train_x.loc[selected.index])[1][1],\n",
    "        lm.predict_proba(qwe_train_x.loc[selected.index])[2][1]]\n",
    "selected[\"churn_prob\"] = prob\n",
    "selected"
   ]
  },
  {
   "cell_type": "markdown",
   "metadata": {},
   "source": [
    "# Q3"
   ]
  },
  {
   "cell_type": "code",
   "execution_count": 11,
   "metadata": {
    "collapsed": false
   },
   "outputs": [
    {
     "data": {
      "text/plain": [
       "14 +      2600\n",
       "7 - 13    2078\n",
       "0 - 6     1669\n",
       "Name: age_group, dtype: int64"
      ]
     },
     "execution_count": 11,
     "metadata": {},
     "output_type": "execute_result"
    }
   ],
   "source": [
    "qwe_data.loc[qwe_data[\"cust_age\"] <= 6, \"age_group\"] = \"0 - 6\"\n",
    "qwe_data.loc[(qwe_data[\"cust_age\"] >= 6) & (qwe_data[\"cust_age\"] <= 13), \"age_group\"] = \"7 - 13\"\n",
    "qwe_data.loc[qwe_data[\"cust_age\"] >= 14, \"age_group\"] = \"14 +\"\n",
    "qwe_data[\"age_group\"].value_counts()"
   ]
  },
  {
   "cell_type": "code",
   "execution_count": 12,
   "metadata": {
    "collapsed": true
   },
   "outputs": [],
   "source": [
    "col_to_delete = [\"cust_id\", \"churn\", \"age_group\"]\n",
    "qwe_train_x_0_6 = qwe_data[qwe_data[\"age_group\"] == \"0 - 6\"].drop(col_to_delete, axis=1)\n",
    "qwe_train_x_7_13 = qwe_data[qwe_data[\"age_group\"] == \"7 - 13\"].drop(col_to_delete, axis=1)\n",
    "qwe_train_x_14_plus = qwe_data[qwe_data[\"age_group\"] == \"14 +\"].drop(col_to_delete, axis=1)\n",
    "qwe_train_y_0_6 = qwe_data.loc[qwe_data[\"age_group\"] == \"0 - 6\", \"churn\"]\n",
    "qwe_train_y_7_13 = qwe_data.loc[qwe_data[\"age_group\"] == \"7 - 13\", \"churn\"]\n",
    "qwe_train_y_14_plus = qwe_data.loc[qwe_data[\"age_group\"] == \"14 +\", \"churn\"]"
   ]
  },
  {
   "cell_type": "code",
   "execution_count": 13,
   "metadata": {
    "collapsed": false
   },
   "outputs": [
    {
     "name": "stdout",
     "output_type": "stream",
     "text": [
      "LogisticRegression(C=1.0, class_weight=None, dual=False, fit_intercept=True,\n",
      "          intercept_scaling=1, max_iter=100, multi_class='ovr', n_jobs=1,\n",
      "          penalty='l2', random_state=None, solver='liblinear', tol=0.0001,\n",
      "          verbose=0, warm_start=False) \n",
      " LogisticRegression(C=1.0, class_weight=None, dual=False, fit_intercept=True,\n",
      "          intercept_scaling=1, max_iter=100, multi_class='ovr', n_jobs=1,\n",
      "          penalty='l2', random_state=None, solver='liblinear', tol=0.0001,\n",
      "          verbose=0, warm_start=False) \n",
      " LogisticRegression(C=1.0, class_weight=None, dual=False, fit_intercept=True,\n",
      "          intercept_scaling=1, max_iter=100, multi_class='ovr', n_jobs=1,\n",
      "          penalty='l2', random_state=None, solver='liblinear', tol=0.0001,\n",
      "          verbose=0, warm_start=False)\n"
     ]
    }
   ],
   "source": [
    "lm_a, lm_b, lm_c = LogisticRegression(), LogisticRegression(), LogisticRegression()\n",
    "lm_a.fit(qwe_train_x_0_6, qwe_train_y_0_6)\n",
    "lm_b.fit(qwe_train_x_7_13, qwe_train_y_7_13)\n",
    "lm_c.fit(qwe_train_x_14_plus, qwe_train_y_14_plus)\n",
    "print(lm_a, \"\\n\", lm_b, \"\\n\", lm_c)"
   ]
  },
  {
   "cell_type": "code",
   "execution_count": 14,
   "metadata": {
    "collapsed": false
   },
   "outputs": [
    {
     "data": {
      "text/html": [
       "<div>\n",
       "<table border=\"1\" class=\"dataframe\">\n",
       "  <thead>\n",
       "    <tr style=\"text-align: right;\">\n",
       "      <th></th>\n",
       "      <th>coef</th>\n",
       "    </tr>\n",
       "  </thead>\n",
       "  <tbody>\n",
       "    <tr>\n",
       "      <th>cust_age</th>\n",
       "      <td>-0.291467</td>\n",
       "    </tr>\n",
       "    <tr>\n",
       "      <th>avgspriority_nov_dec</th>\n",
       "      <td>-0.100329</td>\n",
       "    </tr>\n",
       "    <tr>\n",
       "      <th>chiscore_nov_dec</th>\n",
       "      <td>-0.039427</td>\n",
       "    </tr>\n",
       "    <tr>\n",
       "      <th>suppcase_nov</th>\n",
       "      <td>-0.018373</td>\n",
       "    </tr>\n",
       "    <tr>\n",
       "      <th>views_nov_dec</th>\n",
       "      <td>-0.000039</td>\n",
       "    </tr>\n",
       "    <tr>\n",
       "      <th>blogs_nov_dec</th>\n",
       "      <td>0.003032</td>\n",
       "    </tr>\n",
       "    <tr>\n",
       "      <th>logins_nov_dec</th>\n",
       "      <td>0.007211</td>\n",
       "    </tr>\n",
       "    <tr>\n",
       "      <th>chiscore_nov</th>\n",
       "      <td>0.008735</td>\n",
       "    </tr>\n",
       "    <tr>\n",
       "      <th>days_nov_dec</th>\n",
       "      <td>0.086501</td>\n",
       "    </tr>\n",
       "    <tr>\n",
       "      <th>suppcase_nov_dec</th>\n",
       "      <td>0.165650</td>\n",
       "    </tr>\n",
       "    <tr>\n",
       "      <th>avgspriority_nov</th>\n",
       "      <td>0.277852</td>\n",
       "    </tr>\n",
       "  </tbody>\n",
       "</table>\n",
       "</div>"
      ],
      "text/plain": [
       "                          coef\n",
       "cust_age             -0.291467\n",
       "avgspriority_nov_dec -0.100329\n",
       "chiscore_nov_dec     -0.039427\n",
       "suppcase_nov         -0.018373\n",
       "views_nov_dec        -0.000039\n",
       "blogs_nov_dec         0.003032\n",
       "logins_nov_dec        0.007211\n",
       "chiscore_nov          0.008735\n",
       "days_nov_dec          0.086501\n",
       "suppcase_nov_dec      0.165650\n",
       "avgspriority_nov      0.277852"
      ]
     },
     "execution_count": 14,
     "metadata": {},
     "output_type": "execute_result"
    }
   ],
   "source": [
    "coef_df(lm_a, qwe_train_x_0_6)"
   ]
  },
  {
   "cell_type": "code",
   "execution_count": 15,
   "metadata": {
    "collapsed": false
   },
   "outputs": [
    {
     "data": {
      "text/html": [
       "<div>\n",
       "<table border=\"1\" class=\"dataframe\">\n",
       "  <thead>\n",
       "    <tr style=\"text-align: right;\">\n",
       "      <th></th>\n",
       "      <th>coef</th>\n",
       "    </tr>\n",
       "  </thead>\n",
       "  <tbody>\n",
       "    <tr>\n",
       "      <th>suppcase_nov</th>\n",
       "      <td>-0.252964</td>\n",
       "    </tr>\n",
       "    <tr>\n",
       "      <th>avgspriority_nov_dec</th>\n",
       "      <td>-0.045049</td>\n",
       "    </tr>\n",
       "    <tr>\n",
       "      <th>avgspriority_nov</th>\n",
       "      <td>-0.036028</td>\n",
       "    </tr>\n",
       "    <tr>\n",
       "      <th>blogs_nov_dec</th>\n",
       "      <td>-0.026124</td>\n",
       "    </tr>\n",
       "    <tr>\n",
       "      <th>chiscore_nov</th>\n",
       "      <td>-0.009968</td>\n",
       "    </tr>\n",
       "    <tr>\n",
       "      <th>chiscore_nov_dec</th>\n",
       "      <td>-0.003198</td>\n",
       "    </tr>\n",
       "    <tr>\n",
       "      <th>views_nov_dec</th>\n",
       "      <td>-0.000116</td>\n",
       "    </tr>\n",
       "    <tr>\n",
       "      <th>logins_nov_dec</th>\n",
       "      <td>0.002390</td>\n",
       "    </tr>\n",
       "    <tr>\n",
       "      <th>days_nov_dec</th>\n",
       "      <td>0.015228</td>\n",
       "    </tr>\n",
       "    <tr>\n",
       "      <th>cust_age</th>\n",
       "      <td>0.148297</td>\n",
       "    </tr>\n",
       "    <tr>\n",
       "      <th>suppcase_nov_dec</th>\n",
       "      <td>0.248763</td>\n",
       "    </tr>\n",
       "  </tbody>\n",
       "</table>\n",
       "</div>"
      ],
      "text/plain": [
       "                          coef\n",
       "suppcase_nov         -0.252964\n",
       "avgspriority_nov_dec -0.045049\n",
       "avgspriority_nov     -0.036028\n",
       "blogs_nov_dec        -0.026124\n",
       "chiscore_nov         -0.009968\n",
       "chiscore_nov_dec     -0.003198\n",
       "views_nov_dec        -0.000116\n",
       "logins_nov_dec        0.002390\n",
       "days_nov_dec          0.015228\n",
       "cust_age              0.148297\n",
       "suppcase_nov_dec      0.248763"
      ]
     },
     "execution_count": 15,
     "metadata": {},
     "output_type": "execute_result"
    }
   ],
   "source": [
    "coef_df(lm_b, qwe_train_x_7_13)"
   ]
  },
  {
   "cell_type": "code",
   "execution_count": 16,
   "metadata": {
    "collapsed": false
   },
   "outputs": [
    {
     "data": {
      "text/html": [
       "<div>\n",
       "<table border=\"1\" class=\"dataframe\">\n",
       "  <thead>\n",
       "    <tr style=\"text-align: right;\">\n",
       "      <th></th>\n",
       "      <th>coef</th>\n",
       "    </tr>\n",
       "  </thead>\n",
       "  <tbody>\n",
       "    <tr>\n",
       "      <th>suppcase_nov</th>\n",
       "      <td>-0.186076</td>\n",
       "    </tr>\n",
       "    <tr>\n",
       "      <th>cust_age</th>\n",
       "      <td>-0.036933</td>\n",
       "    </tr>\n",
       "    <tr>\n",
       "      <th>chiscore_nov</th>\n",
       "      <td>-0.012251</td>\n",
       "    </tr>\n",
       "    <tr>\n",
       "      <th>logins_nov_dec</th>\n",
       "      <td>-0.003804</td>\n",
       "    </tr>\n",
       "    <tr>\n",
       "      <th>days_nov_dec</th>\n",
       "      <td>-0.000944</td>\n",
       "    </tr>\n",
       "    <tr>\n",
       "      <th>views_nov_dec</th>\n",
       "      <td>-0.000133</td>\n",
       "    </tr>\n",
       "    <tr>\n",
       "      <th>chiscore_nov_dec</th>\n",
       "      <td>0.001245</td>\n",
       "    </tr>\n",
       "    <tr>\n",
       "      <th>avgspriority_nov_dec</th>\n",
       "      <td>0.017763</td>\n",
       "    </tr>\n",
       "    <tr>\n",
       "      <th>blogs_nov_dec</th>\n",
       "      <td>0.020171</td>\n",
       "    </tr>\n",
       "    <tr>\n",
       "      <th>avgspriority_nov</th>\n",
       "      <td>0.027573</td>\n",
       "    </tr>\n",
       "    <tr>\n",
       "      <th>suppcase_nov_dec</th>\n",
       "      <td>0.054920</td>\n",
       "    </tr>\n",
       "  </tbody>\n",
       "</table>\n",
       "</div>"
      ],
      "text/plain": [
       "                          coef\n",
       "suppcase_nov         -0.186076\n",
       "cust_age             -0.036933\n",
       "chiscore_nov         -0.012251\n",
       "logins_nov_dec       -0.003804\n",
       "days_nov_dec         -0.000944\n",
       "views_nov_dec        -0.000133\n",
       "chiscore_nov_dec      0.001245\n",
       "avgspriority_nov_dec  0.017763\n",
       "blogs_nov_dec         0.020171\n",
       "avgspriority_nov      0.027573\n",
       "suppcase_nov_dec      0.054920"
      ]
     },
     "execution_count": 16,
     "metadata": {},
     "output_type": "execute_result"
    }
   ],
   "source": [
    "coef_df(lm_c, qwe_train_x_14_plus)"
   ]
  },
  {
   "cell_type": "code",
   "execution_count": 17,
   "metadata": {
    "collapsed": false
   },
   "outputs": [
    {
     "data": {
      "text/html": [
       "<div>\n",
       "<table border=\"1\" class=\"dataframe\">\n",
       "  <thead>\n",
       "    <tr style=\"text-align: right;\">\n",
       "      <th></th>\n",
       "      <th>cust_age</th>\n",
       "      <th>churn</th>\n",
       "      <th>chiscore_nov</th>\n",
       "      <th>chiscore_nov_dec</th>\n",
       "      <th>suppcase_nov</th>\n",
       "      <th>suppcase_nov_dec</th>\n",
       "      <th>avgspriority_nov</th>\n",
       "      <th>avgspriority_nov_dec</th>\n",
       "      <th>logins_nov_dec</th>\n",
       "      <th>blogs_nov_dec</th>\n",
       "      <th>views_nov_dec</th>\n",
       "      <th>days_nov_dec</th>\n",
       "      <th>age_group</th>\n",
       "      <th>churn_prob_new</th>\n",
       "    </tr>\n",
       "    <tr>\n",
       "      <th>cust_id</th>\n",
       "      <th></th>\n",
       "      <th></th>\n",
       "      <th></th>\n",
       "      <th></th>\n",
       "      <th></th>\n",
       "      <th></th>\n",
       "      <th></th>\n",
       "      <th></th>\n",
       "      <th></th>\n",
       "      <th></th>\n",
       "      <th></th>\n",
       "      <th></th>\n",
       "      <th></th>\n",
       "      <th></th>\n",
       "    </tr>\n",
       "  </thead>\n",
       "  <tbody>\n",
       "    <tr>\n",
       "      <th>672</th>\n",
       "      <td>16</td>\n",
       "      <td>0</td>\n",
       "      <td>148</td>\n",
       "      <td>1</td>\n",
       "      <td>0</td>\n",
       "      <td>0</td>\n",
       "      <td>0.0</td>\n",
       "      <td>0.0</td>\n",
       "      <td>17</td>\n",
       "      <td>1</td>\n",
       "      <td>85</td>\n",
       "      <td>2</td>\n",
       "      <td>14 +</td>\n",
       "      <td>0.001070</td>\n",
       "    </tr>\n",
       "    <tr>\n",
       "      <th>354</th>\n",
       "      <td>13</td>\n",
       "      <td>0</td>\n",
       "      <td>139</td>\n",
       "      <td>-29</td>\n",
       "      <td>0</td>\n",
       "      <td>0</td>\n",
       "      <td>0.0</td>\n",
       "      <td>0.0</td>\n",
       "      <td>-4</td>\n",
       "      <td>1</td>\n",
       "      <td>244</td>\n",
       "      <td>-1</td>\n",
       "      <td>7 - 13</td>\n",
       "      <td>0.073036</td>\n",
       "    </tr>\n",
       "    <tr>\n",
       "      <th>5203</th>\n",
       "      <td>4</td>\n",
       "      <td>0</td>\n",
       "      <td>37</td>\n",
       "      <td>32</td>\n",
       "      <td>1</td>\n",
       "      <td>1</td>\n",
       "      <td>0.0</td>\n",
       "      <td>0.0</td>\n",
       "      <td>0</td>\n",
       "      <td>0</td>\n",
       "      <td>1</td>\n",
       "      <td>5</td>\n",
       "      <td>0 - 6</td>\n",
       "      <td>0.188957</td>\n",
       "    </tr>\n",
       "  </tbody>\n",
       "</table>\n",
       "</div>"
      ],
      "text/plain": [
       "         cust_age  churn  chiscore_nov  chiscore_nov_dec  suppcase_nov  \\\n",
       "cust_id                                                                  \n",
       "672            16      0           148                 1             0   \n",
       "354            13      0           139               -29             0   \n",
       "5203            4      0            37                32             1   \n",
       "\n",
       "         suppcase_nov_dec  avgspriority_nov  avgspriority_nov_dec  \\\n",
       "cust_id                                                             \n",
       "672                     0               0.0                   0.0   \n",
       "354                     0               0.0                   0.0   \n",
       "5203                    1               0.0                   0.0   \n",
       "\n",
       "         logins_nov_dec  blogs_nov_dec  views_nov_dec  days_nov_dec age_group  \\\n",
       "cust_id                                                                         \n",
       "672                  17              1             85             2      14 +   \n",
       "354                  -4              1            244            -1    7 - 13   \n",
       "5203                  0              0              1             5     0 - 6   \n",
       "\n",
       "         churn_prob_new  \n",
       "cust_id                  \n",
       "672            0.001070  \n",
       "354            0.073036  \n",
       "5203           0.188957  "
      ]
     },
     "execution_count": 17,
     "metadata": {},
     "output_type": "execute_result"
    }
   ],
   "source": [
    "selected_new = pd.DataFrame([qwe_data.loc[671], qwe_data.loc[353], qwe_data.loc[5202]])\n",
    "selected_new.set_index(\"cust_id\", inplace=True)\n",
    "prob_new = [lm_a.predict_proba([qwe_train_x.loc[671]])[0][1],\n",
    "        lm_b.predict_proba([qwe_train_x.loc[353]])[0][1],\n",
    "        lm_c.predict_proba([qwe_train_x.loc[5202]])[0][1]]\n",
    "selected_new[\"churn_prob_new\"] = prob_new\n",
    "selected_new"
   ]
  },
  {
   "cell_type": "code",
   "execution_count": 18,
   "metadata": {
    "collapsed": false
   },
   "outputs": [
    {
     "data": {
      "text/html": [
       "<div>\n",
       "<table border=\"1\" class=\"dataframe\">\n",
       "  <thead>\n",
       "    <tr style=\"text-align: right;\">\n",
       "      <th></th>\n",
       "      <th>churn_prob</th>\n",
       "      <th>churn_prob_new</th>\n",
       "    </tr>\n",
       "    <tr>\n",
       "      <th>cust_id</th>\n",
       "      <th></th>\n",
       "      <th></th>\n",
       "    </tr>\n",
       "  </thead>\n",
       "  <tbody>\n",
       "    <tr>\n",
       "      <th>672.0</th>\n",
       "      <td>0.040151</td>\n",
       "      <td>0.001070</td>\n",
       "    </tr>\n",
       "    <tr>\n",
       "      <th>354.0</th>\n",
       "      <td>0.049235</td>\n",
       "      <td>0.073036</td>\n",
       "    </tr>\n",
       "    <tr>\n",
       "      <th>5203.0</th>\n",
       "      <td>0.017685</td>\n",
       "      <td>0.188957</td>\n",
       "    </tr>\n",
       "  </tbody>\n",
       "</table>\n",
       "</div>"
      ],
      "text/plain": [
       "         churn_prob  churn_prob_new\n",
       "cust_id                            \n",
       "672.0      0.040151        0.001070\n",
       "354.0      0.049235        0.073036\n",
       "5203.0     0.017685        0.188957"
      ]
     },
     "execution_count": 18,
     "metadata": {},
     "output_type": "execute_result"
    }
   ],
   "source": [
    "pd.DataFrame([selected[\"churn_prob\"], selected_new[\"churn_prob_new\"]]).T"
   ]
  },
  {
   "cell_type": "markdown",
   "metadata": {},
   "source": [
    "# Q4"
   ]
  },
  {
   "cell_type": "code",
   "execution_count": 19,
   "metadata": {
    "collapsed": false
   },
   "outputs": [
    {
     "data": {
      "text/html": [
       "<div>\n",
       "<table border=\"1\" class=\"dataframe\">\n",
       "  <thead>\n",
       "    <tr style=\"text-align: right;\">\n",
       "      <th></th>\n",
       "      <th>cust_id</th>\n",
       "      <th>cust_age</th>\n",
       "      <th>churn</th>\n",
       "      <th>chiscore_nov</th>\n",
       "      <th>chiscore_nov_dec</th>\n",
       "      <th>suppcase_nov</th>\n",
       "      <th>suppcase_nov_dec</th>\n",
       "      <th>avgspriority_nov</th>\n",
       "      <th>avgspriority_nov_dec</th>\n",
       "      <th>logins_nov_dec</th>\n",
       "      <th>blogs_nov_dec</th>\n",
       "      <th>views_nov_dec</th>\n",
       "      <th>days_nov_dec</th>\n",
       "      <th>0 - 6</th>\n",
       "      <th>14 +</th>\n",
       "      <th>7 - 13</th>\n",
       "    </tr>\n",
       "  </thead>\n",
       "  <tbody>\n",
       "    <tr>\n",
       "      <th>0</th>\n",
       "      <td>1</td>\n",
       "      <td>67</td>\n",
       "      <td>0</td>\n",
       "      <td>0</td>\n",
       "      <td>0</td>\n",
       "      <td>0</td>\n",
       "      <td>0</td>\n",
       "      <td>0.0</td>\n",
       "      <td>0.0</td>\n",
       "      <td>0</td>\n",
       "      <td>0</td>\n",
       "      <td>0</td>\n",
       "      <td>31</td>\n",
       "      <td>0.0</td>\n",
       "      <td>1.0</td>\n",
       "      <td>0.0</td>\n",
       "    </tr>\n",
       "    <tr>\n",
       "      <th>1</th>\n",
       "      <td>2</td>\n",
       "      <td>67</td>\n",
       "      <td>0</td>\n",
       "      <td>62</td>\n",
       "      <td>4</td>\n",
       "      <td>0</td>\n",
       "      <td>0</td>\n",
       "      <td>0.0</td>\n",
       "      <td>0.0</td>\n",
       "      <td>0</td>\n",
       "      <td>0</td>\n",
       "      <td>-16</td>\n",
       "      <td>31</td>\n",
       "      <td>0.0</td>\n",
       "      <td>1.0</td>\n",
       "      <td>0.0</td>\n",
       "    </tr>\n",
       "    <tr>\n",
       "      <th>2</th>\n",
       "      <td>3</td>\n",
       "      <td>55</td>\n",
       "      <td>0</td>\n",
       "      <td>0</td>\n",
       "      <td>0</td>\n",
       "      <td>0</td>\n",
       "      <td>0</td>\n",
       "      <td>0.0</td>\n",
       "      <td>0.0</td>\n",
       "      <td>0</td>\n",
       "      <td>0</td>\n",
       "      <td>0</td>\n",
       "      <td>31</td>\n",
       "      <td>0.0</td>\n",
       "      <td>1.0</td>\n",
       "      <td>0.0</td>\n",
       "    </tr>\n",
       "    <tr>\n",
       "      <th>3</th>\n",
       "      <td>4</td>\n",
       "      <td>63</td>\n",
       "      <td>0</td>\n",
       "      <td>231</td>\n",
       "      <td>1</td>\n",
       "      <td>1</td>\n",
       "      <td>-1</td>\n",
       "      <td>3.0</td>\n",
       "      <td>0.0</td>\n",
       "      <td>167</td>\n",
       "      <td>-8</td>\n",
       "      <td>21996</td>\n",
       "      <td>0</td>\n",
       "      <td>0.0</td>\n",
       "      <td>1.0</td>\n",
       "      <td>0.0</td>\n",
       "    </tr>\n",
       "    <tr>\n",
       "      <th>4</th>\n",
       "      <td>5</td>\n",
       "      <td>57</td>\n",
       "      <td>0</td>\n",
       "      <td>43</td>\n",
       "      <td>-1</td>\n",
       "      <td>0</td>\n",
       "      <td>0</td>\n",
       "      <td>0.0</td>\n",
       "      <td>0.0</td>\n",
       "      <td>0</td>\n",
       "      <td>0</td>\n",
       "      <td>9</td>\n",
       "      <td>31</td>\n",
       "      <td>0.0</td>\n",
       "      <td>1.0</td>\n",
       "      <td>0.0</td>\n",
       "    </tr>\n",
       "  </tbody>\n",
       "</table>\n",
       "</div>"
      ],
      "text/plain": [
       "   cust_id  cust_age  churn  chiscore_nov  chiscore_nov_dec  suppcase_nov  \\\n",
       "0        1        67      0             0                 0             0   \n",
       "1        2        67      0            62                 4             0   \n",
       "2        3        55      0             0                 0             0   \n",
       "3        4        63      0           231                 1             1   \n",
       "4        5        57      0            43                -1             0   \n",
       "\n",
       "   suppcase_nov_dec  avgspriority_nov  avgspriority_nov_dec  logins_nov_dec  \\\n",
       "0                 0               0.0                   0.0               0   \n",
       "1                 0               0.0                   0.0               0   \n",
       "2                 0               0.0                   0.0               0   \n",
       "3                -1               3.0                   0.0             167   \n",
       "4                 0               0.0                   0.0               0   \n",
       "\n",
       "   blogs_nov_dec  views_nov_dec  days_nov_dec  0 - 6  14 +  7 - 13  \n",
       "0              0              0            31    0.0   1.0     0.0  \n",
       "1              0            -16            31    0.0   1.0     0.0  \n",
       "2              0              0            31    0.0   1.0     0.0  \n",
       "3             -8          21996             0    0.0   1.0     0.0  \n",
       "4              0              9            31    0.0   1.0     0.0  "
      ]
     },
     "execution_count": 19,
     "metadata": {},
     "output_type": "execute_result"
    }
   ],
   "source": [
    "dummies = pd.get_dummies(qwe_data[\"age_group\"])\n",
    "qwe_data_new = pd.merge(qwe_data, dummies, left_index=True, right_index=True)\n",
    "qwe_data_new.drop(\"age_group\", axis=1, inplace=True)\n",
    "qwe_data_new.head(5)"
   ]
  },
  {
   "cell_type": "code",
   "execution_count": 20,
   "metadata": {
    "collapsed": true
   },
   "outputs": [],
   "source": [
    "lm_new = LogisticRegression()\n",
    "qwe_new_train_x = qwe_data_new.drop([\"cust_id\", \"churn\"], axis=1)\n",
    "qwe_new_train_y = qwe_data_new[\"churn\"]"
   ]
  },
  {
   "cell_type": "code",
   "execution_count": 21,
   "metadata": {
    "collapsed": false
   },
   "outputs": [
    {
     "data": {
      "text/plain": [
       "LogisticRegression(C=1.0, class_weight=None, dual=False, fit_intercept=True,\n",
       "          intercept_scaling=1, max_iter=100, multi_class='ovr', n_jobs=1,\n",
       "          penalty='l2', random_state=None, solver='liblinear', tol=0.0001,\n",
       "          verbose=0, warm_start=False)"
      ]
     },
     "execution_count": 21,
     "metadata": {},
     "output_type": "execute_result"
    }
   ],
   "source": [
    "lm_new.fit(qwe_new_train_x, qwe_new_train_y)"
   ]
  },
  {
   "cell_type": "code",
   "execution_count": 22,
   "metadata": {
    "collapsed": false
   },
   "outputs": [],
   "source": [
    "for key, item in qwe_data_new.iterrows():\n",
    "    qwe_data_new.loc[key, \"churn_prob\"] = lm_new.predict_proba([qwe_new_train_x.loc[key]])[0][1]"
   ]
  },
  {
   "cell_type": "code",
   "execution_count": 23,
   "metadata": {
    "collapsed": false
   },
   "outputs": [],
   "source": [
    "qwe_data_new.set_index(\"cust_id\", inplace=True)"
   ]
  },
  {
   "cell_type": "code",
   "execution_count": 24,
   "metadata": {
    "collapsed": false
   },
   "outputs": [
    {
     "data": {
      "text/html": [
       "<div>\n",
       "<table border=\"1\" class=\"dataframe\">\n",
       "  <thead>\n",
       "    <tr style=\"text-align: right;\">\n",
       "      <th></th>\n",
       "      <th>churn_prob</th>\n",
       "    </tr>\n",
       "    <tr>\n",
       "      <th>cust_id</th>\n",
       "      <th></th>\n",
       "    </tr>\n",
       "  </thead>\n",
       "  <tbody>\n",
       "    <tr>\n",
       "      <th>357</th>\n",
       "      <td>0.367534</td>\n",
       "    </tr>\n",
       "    <tr>\n",
       "      <th>929</th>\n",
       "      <td>0.293765</td>\n",
       "    </tr>\n",
       "    <tr>\n",
       "      <th>2287</th>\n",
       "      <td>0.249127</td>\n",
       "    </tr>\n",
       "    <tr>\n",
       "      <th>3604</th>\n",
       "      <td>0.232055</td>\n",
       "    </tr>\n",
       "    <tr>\n",
       "      <th>4680</th>\n",
       "      <td>0.226896</td>\n",
       "    </tr>\n",
       "    <tr>\n",
       "      <th>335</th>\n",
       "      <td>0.215897</td>\n",
       "    </tr>\n",
       "    <tr>\n",
       "      <th>3671</th>\n",
       "      <td>0.215326</td>\n",
       "    </tr>\n",
       "    <tr>\n",
       "      <th>4292</th>\n",
       "      <td>0.214742</td>\n",
       "    </tr>\n",
       "    <tr>\n",
       "      <th>3569</th>\n",
       "      <td>0.210897</td>\n",
       "    </tr>\n",
       "    <tr>\n",
       "      <th>2025</th>\n",
       "      <td>0.206067</td>\n",
       "    </tr>\n",
       "    <tr>\n",
       "      <th>299</th>\n",
       "      <td>0.205523</td>\n",
       "    </tr>\n",
       "    <tr>\n",
       "      <th>4276</th>\n",
       "      <td>0.205461</td>\n",
       "    </tr>\n",
       "    <tr>\n",
       "      <th>3340</th>\n",
       "      <td>0.200765</td>\n",
       "    </tr>\n",
       "    <tr>\n",
       "      <th>4245</th>\n",
       "      <td>0.200727</td>\n",
       "    </tr>\n",
       "  </tbody>\n",
       "</table>\n",
       "</div>"
      ],
      "text/plain": [
       "         churn_prob\n",
       "cust_id            \n",
       "357        0.367534\n",
       "929        0.293765\n",
       "2287       0.249127\n",
       "3604       0.232055\n",
       "4680       0.226896\n",
       "335        0.215897\n",
       "3671       0.215326\n",
       "4292       0.214742\n",
       "3569       0.210897\n",
       "2025       0.206067\n",
       "299        0.205523\n",
       "4276       0.205461\n",
       "3340       0.200765\n",
       "4245       0.200727"
      ]
     },
     "execution_count": 24,
     "metadata": {},
     "output_type": "execute_result"
    }
   ],
   "source": [
    "prob_df = pd.DataFrame(qwe_data_new[\"churn_prob\"])\n",
    "prob_df[prob_df[\"churn_prob\"] >= 0.2].sort_values(\"churn_prob\", ascending=False)"
   ]
  },
  {
   "cell_type": "code",
   "execution_count": 25,
   "metadata": {
    "collapsed": true
   },
   "outputs": [],
   "source": [
    "from sklearn.metrics import roc_curve, auc"
   ]
  },
  {
   "cell_type": "code",
   "execution_count": 26,
   "metadata": {
    "collapsed": false
   },
   "outputs": [],
   "source": [
    "false_positive_rate, true_positive_rate, thresholds = roc_curve(qwe_data_new[\"churn\"], qwe_data_new[\"churn_prob\"])\n",
    "roc_auc = auc(false_positive_rate, true_positive_rate)"
   ]
  },
  {
   "cell_type": "code",
   "execution_count": 27,
   "metadata": {
    "collapsed": false
   },
   "outputs": [
    {
     "data": {
      "text/plain": [
       "<matplotlib.text.Text at 0x10da17128>"
      ]
     },
     "execution_count": 27,
     "metadata": {},
     "output_type": "execute_result"
    },
    {
     "data": {
      "image/png": "[encoded data removed]",
      "text/plain": [
       "<matplotlib.figure.Figure at 0x10da024e0>"
      ]
     },
     "metadata": {},
     "output_type": "display_data"
    }
   ],
   "source": [
    "fig, ax = plt.subplots()\n",
    "fig.set_size_inches(7, 5)\n",
    "plt.title('ROC Curve')\n",
    "plt.plot(false_positive_rate, true_positive_rate,\n",
    "         label='AUC = %0.2f'% roc_auc)\n",
    "plt.legend(loc='lower right')\n",
    "plt.plot([0,1],[0,1])\n",
    "plt.xlim([-0.1,1.1])\n",
    "plt.ylim([-0.1,1.1])\n",
    "plt.ylabel('True Positive Rate')\n",
    "plt.xlabel('False Positive Rate')"
   ]
  },
  {
   "cell_type": "code",
   "execution_count": null,
   "metadata": {
    "collapsed": true
   },
   "outputs": [],
   "source": []
  }
 ],
 "metadata": {
  "anaconda-cloud": {},
  "kernelspec": {
   "display_name": "Python [default]",
   "language": "python",
   "name": "python3"
  },
  "language_info": {
   "codemirror_mode": {
    "name": "ipython",
    "version": 3
   },
   "file_extension": ".py",
   "mimetype": "text/x-python",
   "name": "python",
   "nbconvert_exporter": "python",
   "pygments_lexer": "ipython3",
   "version": "3.5.2"
  }
 },
 "nbformat": 4,
 "nbformat_minor": 1
}
