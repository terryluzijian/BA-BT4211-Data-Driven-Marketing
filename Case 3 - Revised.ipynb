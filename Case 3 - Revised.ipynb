{
 "cells": [
  {
   "cell_type": "code",
   "execution_count": 1,
   "metadata": {
    "collapsed": true
   },
   "outputs": [],
   "source": [
    "import numpy as np\n",
    "import pandas as pd\n",
    "import matplotlib.pyplot as plt\n",
    "import seaborn as sns\n",
    "%matplotlib inline\n",
    "sns.set_palette(\"Set1\", n_colors=8, desat=.55)"
   ]
  },
  {
   "cell_type": "code",
   "execution_count": 2,
   "metadata": {
    "collapsed": false
   },
   "outputs": [
    {
     "name": "stdout",
     "output_type": "stream",
     "text": [
      "<class 'pandas.core.frame.DataFrame'>\n",
      "RangeIndex: 6347 entries, 0 to 6346\n",
      "Data columns (total 13 columns):\n",
      "cust_id                 6347 non-null int64\n",
      "cust_age                6347 non-null int64\n",
      "churn                   6347 non-null int64\n",
      "chiscore_nov            6347 non-null int64\n",
      "chiscore_nov_dec        6347 non-null int64\n",
      "suppcase_nov            6347 non-null int64\n",
      "suppcase_nov_dec        6347 non-null int64\n",
      "avgspriority_nov        6347 non-null float64\n",
      "avgspriority_nov_dec    6347 non-null float64\n",
      "logins_nov_dec          6347 non-null int64\n",
      "blogs_nov_dec           6347 non-null int64\n",
      "views_nov_dec           6347 non-null int64\n",
      "days_nov_dec            6347 non-null int64\n",
      "dtypes: float64(2), int64(11)\n",
      "memory usage: 644.7 KB\n",
      "None\n"
     ]
    },
    {
     "data": {
      "text/html": [
       "<div>\n",
       "<table border=\"1\" class=\"dataframe\">\n",
       "  <thead>\n",
       "    <tr style=\"text-align: right;\">\n",
       "      <th></th>\n",
       "      <th>cust_id</th>\n",
       "      <th>cust_age</th>\n",
       "      <th>churn</th>\n",
       "      <th>chiscore_nov</th>\n",
       "      <th>chiscore_nov_dec</th>\n",
       "      <th>suppcase_nov</th>\n",
       "      <th>suppcase_nov_dec</th>\n",
       "      <th>avgspriority_nov</th>\n",
       "      <th>avgspriority_nov_dec</th>\n",
       "      <th>logins_nov_dec</th>\n",
       "      <th>blogs_nov_dec</th>\n",
       "      <th>views_nov_dec</th>\n",
       "      <th>days_nov_dec</th>\n",
       "    </tr>\n",
       "  </thead>\n",
       "  <tbody>\n",
       "    <tr>\n",
       "      <th>0</th>\n",
       "      <td>1</td>\n",
       "      <td>67</td>\n",
       "      <td>0</td>\n",
       "      <td>0</td>\n",
       "      <td>0</td>\n",
       "      <td>0</td>\n",
       "      <td>0</td>\n",
       "      <td>0.0</td>\n",
       "      <td>0.0</td>\n",
       "      <td>0</td>\n",
       "      <td>0</td>\n",
       "      <td>0</td>\n",
       "      <td>31</td>\n",
       "    </tr>\n",
       "    <tr>\n",
       "      <th>1</th>\n",
       "      <td>2</td>\n",
       "      <td>67</td>\n",
       "      <td>0</td>\n",
       "      <td>62</td>\n",
       "      <td>4</td>\n",
       "      <td>0</td>\n",
       "      <td>0</td>\n",
       "      <td>0.0</td>\n",
       "      <td>0.0</td>\n",
       "      <td>0</td>\n",
       "      <td>0</td>\n",
       "      <td>-16</td>\n",
       "      <td>31</td>\n",
       "    </tr>\n",
       "    <tr>\n",
       "      <th>2</th>\n",
       "      <td>3</td>\n",
       "      <td>55</td>\n",
       "      <td>0</td>\n",
       "      <td>0</td>\n",
       "      <td>0</td>\n",
       "      <td>0</td>\n",
       "      <td>0</td>\n",
       "      <td>0.0</td>\n",
       "      <td>0.0</td>\n",
       "      <td>0</td>\n",
       "      <td>0</td>\n",
       "      <td>0</td>\n",
       "      <td>31</td>\n",
       "    </tr>\n",
       "    <tr>\n",
       "      <th>3</th>\n",
       "      <td>4</td>\n",
       "      <td>63</td>\n",
       "      <td>0</td>\n",
       "      <td>231</td>\n",
       "      <td>1</td>\n",
       "      <td>1</td>\n",
       "      <td>-1</td>\n",
       "      <td>3.0</td>\n",
       "      <td>0.0</td>\n",
       "      <td>167</td>\n",
       "      <td>-8</td>\n",
       "      <td>21996</td>\n",
       "      <td>0</td>\n",
       "    </tr>\n",
       "    <tr>\n",
       "      <th>4</th>\n",
       "      <td>5</td>\n",
       "      <td>57</td>\n",
       "      <td>0</td>\n",
       "      <td>43</td>\n",
       "      <td>-1</td>\n",
       "      <td>0</td>\n",
       "      <td>0</td>\n",
       "      <td>0.0</td>\n",
       "      <td>0.0</td>\n",
       "      <td>0</td>\n",
       "      <td>0</td>\n",
       "      <td>9</td>\n",
       "      <td>31</td>\n",
       "    </tr>\n",
       "  </tbody>\n",
       "</table>\n",
       "</div>"
      ],
      "text/plain": [
       "   cust_id  cust_age  churn  chiscore_nov  chiscore_nov_dec  suppcase_nov  \\\n",
       "0        1        67      0             0                 0             0   \n",
       "1        2        67      0            62                 4             0   \n",
       "2        3        55      0             0                 0             0   \n",
       "3        4        63      0           231                 1             1   \n",
       "4        5        57      0            43                -1             0   \n",
       "\n",
       "   suppcase_nov_dec  avgspriority_nov  avgspriority_nov_dec  logins_nov_dec  \\\n",
       "0                 0               0.0                   0.0               0   \n",
       "1                 0               0.0                   0.0               0   \n",
       "2                 0               0.0                   0.0               0   \n",
       "3                -1               3.0                   0.0             167   \n",
       "4                 0               0.0                   0.0               0   \n",
       "\n",
       "   blogs_nov_dec  views_nov_dec  days_nov_dec  \n",
       "0              0              0            31  \n",
       "1              0            -16            31  \n",
       "2              0              0            31  \n",
       "3             -8          21996             0  \n",
       "4              0              9            31  "
      ]
     },
     "execution_count": 2,
     "metadata": {},
     "output_type": "execute_result"
    }
   ],
   "source": [
    "qwe_data = pd.read_excel(\"QWE Inc._Data.xlsx\")\n",
    "print(qwe_data.info())\n",
    "qwe_data.head(5)"
   ]
  },
  {
   "cell_type": "markdown",
   "metadata": {},
   "source": [
    "# Q1"
   ]
  },
  {
   "cell_type": "code",
   "execution_count": 3,
   "metadata": {
    "collapsed": false
   },
   "outputs": [
    {
     "name": "stderr",
     "output_type": "stream",
     "text": [
      "/Users/apple/anaconda/lib/python3.5/site-packages/statsmodels/nonparametric/kdetools.py:20: VisibleDeprecationWarning: using a non-integer number instead of an integer will result in an error in the future\n",
      "  y = X[:m/2+1] + np.r_[0,X[m/2+1:],0]*1j\n"
     ]
    },
    {
     "data": {
      "text/plain": [
       "<matplotlib.axes._subplots.AxesSubplot at 0x10bbd4668>"
      ]
     },
     "execution_count": 3,
     "metadata": {},
     "output_type": "execute_result"
    },
    {
     "data": {
      "image/png": "[encoded data removed]",
      "text/plain": [
       "<matplotlib.figure.Figure at 0x10bef6a20>"
      ]
     },
     "metadata": {},
     "output_type": "display_data"
    }
   ],
   "source": [
    "fig, ax = plt.subplots(ncols=2, nrows=1)\n",
    "fig.set_size_inches(10.8, 5)\n",
    "sns.barplot(x=qwe_data[\"churn\"].value_counts().index, y=qwe_data[\"churn\"].value_counts(), ax=ax[0])\n",
    "sns.distplot(qwe_data[\"cust_age\"], ax=ax[1])"
   ]
  },
  {
   "cell_type": "code",
   "execution_count": 4,
   "metadata": {
    "collapsed": false
   },
   "outputs": [
    {
     "data": {
      "text/plain": [
       "<matplotlib.axes._subplots.AxesSubplot at 0x10c54ff60>"
      ]
     },
     "execution_count": 4,
     "metadata": {},
     "output_type": "execute_result"
    },
    {
     "data": {
      "image/png": "[encoded data removed]",
      "text/plain": [
       "<matplotlib.figure.Figure at 0x10bbc3438>"
      ]
     },
     "metadata": {},
     "output_type": "display_data"
    }
   ],
   "source": [
    "fig, ax = plt.subplots()\n",
    "fig.set_size_inches(5.4, 5)\n",
    "sns.boxplot(x=\"churn\", y=\"cust_age\", data=qwe_data)"
   ]
  },
  {
   "cell_type": "markdown",
   "metadata": {},
   "source": [
    "# Q2"
   ]
  },
  {
   "cell_type": "code",
   "execution_count": 5,
   "metadata": {
    "collapsed": false
   },
   "outputs": [
    {
     "name": "stdout",
     "output_type": "stream",
     "text": [
      "Optimization terminated successfully.\n",
      "         Current function value: 0.192243\n",
      "         Iterations 8\n"
     ]
    },
    {
     "data": {
      "text/html": [
       "<table class=\"simpletable\">\n",
       "<tr>\n",
       "        <td>Model:</td>              <td>Logit</td>      <td>Pseudo R-squared:</td>    <td>0.044</td>  \n",
       "</tr>\n",
       "<tr>\n",
       "  <td>Dependent Variable:</td>       <td>churn</td>            <td>AIC:</td>         <td>2464.3318</td>\n",
       "</tr>\n",
       "<tr>\n",
       "         <td>Date:</td>        <td>2017-02-25 23:40</td>       <td>BIC:</td>         <td>2545.4006</td>\n",
       "</tr>\n",
       "<tr>\n",
       "   <td>No. Observations:</td>        <td>6347</td>        <td>Log-Likelihood:</td>    <td>-1220.2</td> \n",
       "</tr>\n",
       "<tr>\n",
       "       <td>Df Model:</td>             <td>11</td>            <td>LL-Null:</td>        <td>-1276.6</td> \n",
       "</tr>\n",
       "<tr>\n",
       "     <td>Df Residuals:</td>          <td>6335</td>         <td>LLR p-value:</td>    <td>5.0768e-19</td>\n",
       "</tr>\n",
       "<tr>\n",
       "      <td>Converged:</td>           <td>1.0000</td>           <td>Scale:</td>         <td>1.0000</td>  \n",
       "</tr>\n",
       "<tr>\n",
       "    <td>No. Iterations:</td>        <td>8.0000</td>              <td></td>               <td></td>     \n",
       "</tr>\n",
       "</table>\n",
       "<table class=\"simpletable\">\n",
       "<tr>\n",
       "            <td></td>            <th>Coef.</th>  <th>Std.Err.</th>     <th>z</th>     <th>P>|z|</th> <th>[0.025</th>  <th>0.975]</th> \n",
       "</tr>\n",
       "<tr>\n",
       "  <th>cust_age</th>             <td>0.0127</td>   <td>0.0054</td>   <td>2.3659</td>  <td>0.0180</td> <td>0.0022</td>  <td>0.0232</td> \n",
       "</tr>\n",
       "<tr>\n",
       "  <th>chiscore_nov</th>         <td>-0.0047</td>  <td>0.0012</td>   <td>-3.8076</td> <td>0.0001</td> <td>-0.0071</td> <td>-0.0023</td>\n",
       "</tr>\n",
       "<tr>\n",
       "  <th>chiscore_nov_dec</th>     <td>-0.0103</td>  <td>0.0025</td>   <td>-4.1526</td> <td>0.0000</td> <td>-0.0151</td> <td>-0.0054</td>\n",
       "</tr>\n",
       "<tr>\n",
       "  <th>suppcase_nov</th>         <td>-0.1524</td>  <td>0.1049</td>   <td>-1.4523</td> <td>0.1464</td> <td>-0.3580</td> <td>0.0533</td> \n",
       "</tr>\n",
       "<tr>\n",
       "  <th>suppcase_nov_dec</th>     <td>0.1703</td>   <td>0.0905</td>   <td>1.8814</td>  <td>0.0599</td> <td>-0.0071</td> <td>0.3476</td> \n",
       "</tr>\n",
       "<tr>\n",
       "  <th>avgspriority_nov</th>     <td>0.0159</td>   <td>0.1022</td>   <td>0.1559</td>  <td>0.8761</td> <td>-0.1843</td> <td>0.2162</td> \n",
       "</tr>\n",
       "<tr>\n",
       "  <th>avgspriority_nov_dec</th> <td>-0.0519</td>  <td>0.0785</td>   <td>-0.6615</td> <td>0.5083</td> <td>-0.2058</td> <td>0.1020</td> \n",
       "</tr>\n",
       "<tr>\n",
       "  <th>logins_nov_dec</th>       <td>0.0003</td>   <td>0.0021</td>   <td>0.1383</td>  <td>0.8900</td> <td>-0.0038</td> <td>0.0044</td> \n",
       "</tr>\n",
       "<tr>\n",
       "  <th>blogs_nov_dec</th>        <td>0.0003</td>   <td>0.0196</td>   <td>0.0148</td>  <td>0.9882</td> <td>-0.0381</td> <td>0.0387</td> \n",
       "</tr>\n",
       "<tr>\n",
       "  <th>views_nov_dec</th>        <td>-0.0001</td>  <td>0.0000</td>   <td>-2.6966</td> <td>0.0070</td> <td>-0.0002</td> <td>-0.0000</td>\n",
       "</tr>\n",
       "<tr>\n",
       "  <th>days_nov_dec</th>         <td>0.0172</td>   <td>0.0043</td>   <td>4.0203</td>  <td>0.0001</td> <td>0.0088</td>  <td>0.0256</td> \n",
       "</tr>\n",
       "<tr>\n",
       "  <th>intercept</th>            <td>-2.7627</td>  <td>0.1069</td>  <td>-25.8412</td> <td>0.0000</td> <td>-2.9722</td> <td>-2.5531</td>\n",
       "</tr>\n",
       "</table>"
      ],
      "text/plain": [
       "<class 'statsmodels.iolib.summary2.Summary'>\n",
       "\"\"\"\n",
       "                           Results: Logit\n",
       "=====================================================================\n",
       "Model:                Logit             Pseudo R-squared:  0.044     \n",
       "Dependent Variable:   churn             AIC:               2464.3318 \n",
       "Date:                 2017-02-25 23:40  BIC:               2545.4006 \n",
       "No. Observations:     6347              Log-Likelihood:    -1220.2   \n",
       "Df Model:             11                LL-Null:           -1276.6   \n",
       "Df Residuals:         6335              LLR p-value:       5.0768e-19\n",
       "Converged:            1.0000            Scale:             1.0000    \n",
       "No. Iterations:       8.0000                                         \n",
       "---------------------------------------------------------------------\n",
       "                      Coef.  Std.Err.    z     P>|z|   [0.025  0.975]\n",
       "---------------------------------------------------------------------\n",
       "cust_age              0.0127   0.0054   2.3659 0.0180  0.0022  0.0232\n",
       "chiscore_nov         -0.0047   0.0012  -3.8076 0.0001 -0.0071 -0.0023\n",
       "chiscore_nov_dec     -0.0103   0.0025  -4.1526 0.0000 -0.0151 -0.0054\n",
       "suppcase_nov         -0.1524   0.1049  -1.4523 0.1464 -0.3580  0.0533\n",
       "suppcase_nov_dec      0.1703   0.0905   1.8814 0.0599 -0.0071  0.3476\n",
       "avgspriority_nov      0.0159   0.1022   0.1559 0.8761 -0.1843  0.2162\n",
       "avgspriority_nov_dec -0.0519   0.0785  -0.6615 0.5083 -0.2058  0.1020\n",
       "logins_nov_dec        0.0003   0.0021   0.1383 0.8900 -0.0038  0.0044\n",
       "blogs_nov_dec         0.0003   0.0196   0.0148 0.9882 -0.0381  0.0387\n",
       "views_nov_dec        -0.0001   0.0000  -2.6966 0.0070 -0.0002 -0.0000\n",
       "days_nov_dec          0.0172   0.0043   4.0203 0.0001  0.0088  0.0256\n",
       "intercept            -2.7627   0.1069 -25.8412 0.0000 -2.9722 -2.5531\n",
       "=====================================================================\n",
       "\n",
       "\"\"\""
      ]
     },
     "execution_count": 5,
     "metadata": {},
     "output_type": "execute_result"
    }
   ],
   "source": [
    "import statsmodels.api as sm\n",
    "qwe_train_y_stats = qwe_data[\"churn\"]\n",
    "qwe_train_x_stats = qwe_data.drop([\"cust_id\", \"churn\"], axis=1)\n",
    "qwe_train_x_stats[\"intercept\"] = 1\n",
    "logit = sm.Logit(qwe_train_y_stats, qwe_train_x_stats)\n",
    "result = logit.fit()\n",
    "result.summary2()"
   ]
  },
  {
   "cell_type": "code",
   "execution_count": 6,
   "metadata": {
    "collapsed": false
   },
   "outputs": [
    {
     "data": {
      "text/html": [
       "<div>\n",
       "<table border=\"1\" class=\"dataframe\">\n",
       "  <thead>\n",
       "    <tr style=\"text-align: right;\">\n",
       "      <th></th>\n",
       "      <th>churn</th>\n",
       "      <th>churn_prob</th>\n",
       "    </tr>\n",
       "    <tr>\n",
       "      <th>cust_id</th>\n",
       "      <th></th>\n",
       "      <th></th>\n",
       "    </tr>\n",
       "  </thead>\n",
       "  <tbody>\n",
       "    <tr>\n",
       "      <th>672.0</th>\n",
       "      <td>0.0</td>\n",
       "      <td>0.038105</td>\n",
       "    </tr>\n",
       "    <tr>\n",
       "      <th>354.0</th>\n",
       "      <td>0.0</td>\n",
       "      <td>0.047798</td>\n",
       "    </tr>\n",
       "    <tr>\n",
       "      <th>5203.0</th>\n",
       "      <td>0.0</td>\n",
       "      <td>0.042739</td>\n",
       "    </tr>\n",
       "  </tbody>\n",
       "</table>\n",
       "</div>"
      ],
      "text/plain": [
       "         churn  churn_prob\n",
       "cust_id                   \n",
       "672.0      0.0    0.038105\n",
       "354.0      0.0    0.047798\n",
       "5203.0     0.0    0.042739"
      ]
     },
     "execution_count": 6,
     "metadata": {},
     "output_type": "execute_result"
    }
   ],
   "source": [
    "selected_stats = pd.DataFrame([qwe_data.loc[671], qwe_data.loc[353], qwe_data.loc[5202]])\n",
    "selected_stats.set_index(\"cust_id\", inplace=True)\n",
    "selected_stats[\"churn_prob\"] = result.predict(qwe_train_x_stats.loc[selected_stats.index-1])\n",
    "selected_stats[[\"churn\", \"churn_prob\"]]"
   ]
  },
  {
   "cell_type": "markdown",
   "metadata": {},
   "source": [
    "# Q3"
   ]
  },
  {
   "cell_type": "code",
   "execution_count": 7,
   "metadata": {
    "collapsed": false
   },
   "outputs": [
    {
     "data": {
      "text/plain": [
       "14 +      2600\n",
       "0 - 6     2051\n",
       "7 - 13    1696\n",
       "Name: age_group, dtype: int64"
      ]
     },
     "execution_count": 7,
     "metadata": {},
     "output_type": "execute_result"
    }
   ],
   "source": [
    "qwe_data.loc[qwe_data[\"cust_age\"] <= 6, \"age_group\"] = \"0 - 6\"\n",
    "qwe_data.loc[(qwe_data[\"cust_age\"] >= 7) & (qwe_data[\"cust_age\"] <= 13), \"age_group\"] = \"7 - 13\"\n",
    "qwe_data.loc[qwe_data[\"cust_age\"] >= 14, \"age_group\"] = \"14 +\"\n",
    "qwe_data[\"age_group\"].value_counts()"
   ]
  },
  {
   "cell_type": "code",
   "execution_count": 8,
   "metadata": {
    "collapsed": false
   },
   "outputs": [],
   "source": [
    "col_to_delete = [\"cust_id\", \"churn\", \"age_group\"]\n",
    "qwe_train_stats_x_0_6 = qwe_data[qwe_data[\"age_group\"] == \"0 - 6\"].drop(col_to_delete, axis=1)\n",
    "qwe_train_stats_x_7_13 = qwe_data[qwe_data[\"age_group\"] == \"7 - 13\"].drop(col_to_delete, axis=1)\n",
    "qwe_train_stats_x_14_plus = qwe_data[qwe_data[\"age_group\"] == \"14 +\"].drop(col_to_delete, axis=1)\n",
    "qwe_train_stats_y_0_6 = qwe_data.loc[qwe_data[\"age_group\"] == \"0 - 6\", \"churn\"]\n",
    "qwe_train_stats_y_7_13 = qwe_data.loc[qwe_data[\"age_group\"] == \"7 - 13\", \"churn\"]\n",
    "qwe_train_stats_y_14_plus = qwe_data.loc[qwe_data[\"age_group\"] == \"14 +\", \"churn\"]"
   ]
  },
  {
   "cell_type": "code",
   "execution_count": 9,
   "metadata": {
    "collapsed": true
   },
   "outputs": [],
   "source": [
    "qwe_train_stats_x_0_6[\"intercept\"] = 1\n",
    "qwe_train_stats_x_7_13[\"intercept\"] = 1\n",
    "qwe_train_stats_x_14_plus[\"intercept\"] = 1"
   ]
  },
  {
   "cell_type": "code",
   "execution_count": 10,
   "metadata": {
    "collapsed": false
   },
   "outputs": [
    {
     "name": "stdout",
     "output_type": "stream",
     "text": [
      "Optimization terminated successfully.\n",
      "         Current function value: 0.092806\n",
      "         Iterations 9\n",
      "                           Results: Logit\n",
      "=====================================================================\n",
      "Model:                Logit             Pseudo R-squared:  0.105     \n",
      "Dependent Variable:   churn             AIC:               404.6896  \n",
      "Date:                 2017-02-25 23:41  BIC:               472.2026  \n",
      "No. Observations:     2051              Log-Likelihood:    -190.34   \n",
      "Df Model:             11                LL-Null:           -212.57   \n",
      "Df Residuals:         2039              LLR p-value:       6.0699e-06\n",
      "Converged:            1.0000            Scale:             1.0000    \n",
      "No. Iterations:       9.0000                                         \n",
      "---------------------------------------------------------------------\n",
      "                      Coef.  Std.Err.    z     P>|z|   [0.025  0.975]\n",
      "---------------------------------------------------------------------\n",
      "cust_age              0.3883   0.1330   2.9192 0.0035  0.1276  0.6490\n",
      "chiscore_nov         -0.0052   0.0046  -1.1346 0.2566 -0.0142  0.0038\n",
      "chiscore_nov_dec     -0.0191   0.0063  -3.0405 0.0024 -0.0314 -0.0068\n",
      "suppcase_nov         -0.1869   0.1567  -1.1925 0.2330 -0.4941  0.1203\n",
      "suppcase_nov_dec      0.2467   0.1455   1.6953 0.0900 -0.0385  0.5319\n",
      "avgspriority_nov      0.3607   0.2013   1.7915 0.0732 -0.0339  0.7553\n",
      "avgspriority_nov_dec -0.2254   0.1571  -1.4350 0.1513 -0.5332  0.0825\n",
      "logins_nov_dec        0.0072   0.0031   2.3651 0.0180  0.0012  0.0132\n",
      "blogs_nov_dec        -0.0016   0.0279  -0.0591 0.9529 -0.0563  0.0530\n",
      "views_nov_dec         0.0001   0.0002   0.5856 0.5581 -0.0002  0.0004\n",
      "days_nov_dec          0.0355   0.0201   1.7645 0.0776 -0.0039  0.0750\n",
      "intercept            -5.3901   0.5046 -10.6819 0.0000 -6.3790 -4.4011\n",
      "=====================================================================\n",
      "\n",
      "Optimization terminated successfully.\n",
      "         Current function value: 0.237611\n",
      "         Iterations 8\n",
      "                           Results: Logit\n",
      "====================================================================\n",
      "Model:               Logit             Pseudo R-squared:  0.126     \n",
      "Dependent Variable:  churn             AIC:               829.9764  \n",
      "Date:                2017-02-25 23:41  BIC:               895.2087  \n",
      "No. Observations:    1696              Log-Likelihood:    -402.99   \n",
      "Df Model:            11                LL-Null:           -461.27   \n",
      "Df Residuals:        1684              LLR p-value:       8.8556e-20\n",
      "Converged:           1.0000            Scale:             1.0000    \n",
      "No. Iterations:      8.0000                                         \n",
      "--------------------------------------------------------------------\n",
      "                      Coef.  Std.Err.    z    P>|z|   [0.025  0.975]\n",
      "--------------------------------------------------------------------\n",
      "cust_age              0.2556   0.0525  4.8671 0.0000  0.1527  0.3585\n",
      "chiscore_nov         -0.0092   0.0021 -4.3546 0.0000 -0.0133 -0.0051\n",
      "chiscore_nov_dec     -0.0037   0.0043 -0.8614 0.3890 -0.0122  0.0047\n",
      "suppcase_nov         -0.0768   0.1932 -0.3976 0.6909 -0.4554  0.3018\n",
      "suppcase_nov_dec      0.1427   0.1702  0.8381 0.4020 -0.1910  0.4763\n",
      "avgspriority_nov     -0.2213   0.1810 -1.2223 0.2216 -0.5761  0.1336\n",
      "avgspriority_nov_dec  0.0660   0.1351  0.4884 0.6253 -0.1988  0.3308\n",
      "logins_nov_dec       -0.0010   0.0039 -0.2519 0.8011 -0.0086  0.0067\n",
      "blogs_nov_dec        -0.0465   0.0565 -0.8236 0.4102 -0.1573  0.0642\n",
      "views_nov_dec        -0.0001   0.0001 -2.2768 0.0228 -0.0002 -0.0000\n",
      "days_nov_dec          0.0159   0.0063  2.5283 0.0115  0.0036  0.0282\n",
      "intercept            -4.2801   0.5744 -7.4515 0.0000 -5.4059 -3.1543\n",
      "====================================================================\n",
      "\n",
      "Optimization terminated successfully.\n",
      "         Current function value: 0.200887\n",
      "         Iterations 9\n",
      "                           Results: Logit\n",
      "====================================================================\n",
      "Model:               Logit             Pseudo R-squared:  0.080     \n",
      "Dependent Variable:  churn             AIC:               1068.6105 \n",
      "Date:                2017-02-25 23:41  BIC:               1138.9697 \n",
      "No. Observations:    2600              Log-Likelihood:    -522.31   \n",
      "Df Model:            11                LL-Null:           -567.88   \n",
      "Df Residuals:        2588              LLR p-value:       9.9087e-15\n",
      "Converged:           1.0000            Scale:             1.0000    \n",
      "No. Iterations:      9.0000                                         \n",
      "--------------------------------------------------------------------\n",
      "                      Coef.  Std.Err.    z    P>|z|   [0.025  0.975]\n",
      "--------------------------------------------------------------------\n",
      "cust_age             -0.0350   0.0105 -3.3406 0.0008 -0.0556 -0.0145\n",
      "chiscore_nov         -0.0121   0.0018 -6.6230 0.0000 -0.0157 -0.0085\n",
      "chiscore_nov_dec      0.0011   0.0038  0.2894 0.7722 -0.0064  0.0086\n",
      "suppcase_nov         -0.2045   0.2408 -0.8491 0.3958 -0.6765  0.2675\n",
      "suppcase_nov_dec      0.0627   0.1629  0.3847 0.7005 -0.2566  0.3820\n",
      "avgspriority_nov      0.0407   0.1834  0.2220 0.8243 -0.3188  0.4003\n",
      "avgspriority_nov_dec  0.0118   0.1313  0.0896 0.9286 -0.2457  0.2692\n",
      "logins_nov_dec       -0.0038   0.0046 -0.8164 0.4143 -0.0129  0.0053\n",
      "blogs_nov_dec         0.0203   0.0293  0.6932 0.4882 -0.0371  0.0777\n",
      "views_nov_dec        -0.0001   0.0001 -1.7207 0.0853 -0.0003  0.0000\n",
      "days_nov_dec         -0.0008   0.0032 -0.2622 0.7932 -0.0072  0.0055\n",
      "intercept            -0.8212   0.2869 -2.8622 0.0042 -1.3836 -0.2589\n",
      "====================================================================\n",
      "\n"
     ]
    }
   ],
   "source": [
    "logit_0_6 = sm.Logit(qwe_train_stats_y_0_6, qwe_train_stats_x_0_6)\n",
    "logit_7_13 = sm.Logit(qwe_train_stats_y_7_13, qwe_train_stats_x_7_13)\n",
    "logit_14 = sm.Logit(qwe_train_stats_y_14_plus, qwe_train_stats_x_14_plus)\n",
    "result_0_6 = logit_0_6.fit()\n",
    "print(result_0_6.summary2())\n",
    "result_7_13 = logit_7_13.fit()\n",
    "print(result_7_13.summary2())\n",
    "result_14 = logit_14.fit()\n",
    "print(result_14.summary2())"
   ]
  },
  {
   "cell_type": "code",
   "execution_count": 11,
   "metadata": {
    "collapsed": false
   },
   "outputs": [],
   "source": [
    "selected_stats.loc[672, \"churn_new_prob\"] = result_14.predict(qwe_train_stats_x_14_plus.loc[671])\n",
    "selected_stats.loc[354, \"churn_new_prob\"] = result_7_13.predict(qwe_train_stats_x_7_13.loc[353])\n",
    "selected_stats.loc[5203, \"churn_new_prob\"] = result_0_6.predict(qwe_train_stats_x_0_6.loc[5202])"
   ]
  },
  {
   "cell_type": "code",
   "execution_count": 12,
   "metadata": {
    "collapsed": false
   },
   "outputs": [
    {
     "data": {
      "text/html": [
       "<div>\n",
       "<table border=\"1\" class=\"dataframe\">\n",
       "  <thead>\n",
       "    <tr style=\"text-align: right;\">\n",
       "      <th></th>\n",
       "      <th>churn</th>\n",
       "      <th>churn_prob</th>\n",
       "      <th>churn_new_prob</th>\n",
       "    </tr>\n",
       "    <tr>\n",
       "      <th>cust_id</th>\n",
       "      <th></th>\n",
       "      <th></th>\n",
       "      <th></th>\n",
       "    </tr>\n",
       "  </thead>\n",
       "  <tbody>\n",
       "    <tr>\n",
       "      <th>672.0</th>\n",
       "      <td>0.0</td>\n",
       "      <td>0.038105</td>\n",
       "      <td>0.038145</td>\n",
       "    </tr>\n",
       "    <tr>\n",
       "      <th>354.0</th>\n",
       "      <td>0.0</td>\n",
       "      <td>0.047798</td>\n",
       "      <td>0.098337</td>\n",
       "    </tr>\n",
       "    <tr>\n",
       "      <th>5203.0</th>\n",
       "      <td>0.0</td>\n",
       "      <td>0.042739</td>\n",
       "      <td>0.012096</td>\n",
       "    </tr>\n",
       "  </tbody>\n",
       "</table>\n",
       "</div>"
      ],
      "text/plain": [
       "         churn  churn_prob  churn_new_prob\n",
       "cust_id                                   \n",
       "672.0      0.0    0.038105        0.038145\n",
       "354.0      0.0    0.047798        0.098337\n",
       "5203.0     0.0    0.042739        0.012096"
      ]
     },
     "execution_count": 12,
     "metadata": {},
     "output_type": "execute_result"
    }
   ],
   "source": [
    "selected_stats[[\"churn\", \"churn_prob\", \"churn_new_prob\"]]"
   ]
  },
  {
   "cell_type": "markdown",
   "metadata": {},
   "source": [
    "# Q4"
   ]
  },
  {
   "cell_type": "code",
   "execution_count": 13,
   "metadata": {
    "collapsed": false
   },
   "outputs": [
    {
     "data": {
      "text/html": [
       "<div>\n",
       "<table border=\"1\" class=\"dataframe\">\n",
       "  <thead>\n",
       "    <tr style=\"text-align: right;\">\n",
       "      <th></th>\n",
       "      <th>cust_id</th>\n",
       "      <th>cust_age</th>\n",
       "      <th>churn</th>\n",
       "      <th>chiscore_nov</th>\n",
       "      <th>chiscore_nov_dec</th>\n",
       "      <th>suppcase_nov</th>\n",
       "      <th>suppcase_nov_dec</th>\n",
       "      <th>avgspriority_nov</th>\n",
       "      <th>avgspriority_nov_dec</th>\n",
       "      <th>logins_nov_dec</th>\n",
       "      <th>blogs_nov_dec</th>\n",
       "      <th>views_nov_dec</th>\n",
       "      <th>days_nov_dec</th>\n",
       "      <th>0 - 6</th>\n",
       "      <th>14 +</th>\n",
       "      <th>7 - 13</th>\n",
       "    </tr>\n",
       "  </thead>\n",
       "  <tbody>\n",
       "    <tr>\n",
       "      <th>0</th>\n",
       "      <td>1</td>\n",
       "      <td>67</td>\n",
       "      <td>0</td>\n",
       "      <td>0</td>\n",
       "      <td>0</td>\n",
       "      <td>0</td>\n",
       "      <td>0</td>\n",
       "      <td>0.0</td>\n",
       "      <td>0.0</td>\n",
       "      <td>0</td>\n",
       "      <td>0</td>\n",
       "      <td>0</td>\n",
       "      <td>31</td>\n",
       "      <td>0.0</td>\n",
       "      <td>1.0</td>\n",
       "      <td>0.0</td>\n",
       "    </tr>\n",
       "    <tr>\n",
       "      <th>1</th>\n",
       "      <td>2</td>\n",
       "      <td>67</td>\n",
       "      <td>0</td>\n",
       "      <td>62</td>\n",
       "      <td>4</td>\n",
       "      <td>0</td>\n",
       "      <td>0</td>\n",
       "      <td>0.0</td>\n",
       "      <td>0.0</td>\n",
       "      <td>0</td>\n",
       "      <td>0</td>\n",
       "      <td>-16</td>\n",
       "      <td>31</td>\n",
       "      <td>0.0</td>\n",
       "      <td>1.0</td>\n",
       "      <td>0.0</td>\n",
       "    </tr>\n",
       "    <tr>\n",
       "      <th>2</th>\n",
       "      <td>3</td>\n",
       "      <td>55</td>\n",
       "      <td>0</td>\n",
       "      <td>0</td>\n",
       "      <td>0</td>\n",
       "      <td>0</td>\n",
       "      <td>0</td>\n",
       "      <td>0.0</td>\n",
       "      <td>0.0</td>\n",
       "      <td>0</td>\n",
       "      <td>0</td>\n",
       "      <td>0</td>\n",
       "      <td>31</td>\n",
       "      <td>0.0</td>\n",
       "      <td>1.0</td>\n",
       "      <td>0.0</td>\n",
       "    </tr>\n",
       "    <tr>\n",
       "      <th>3</th>\n",
       "      <td>4</td>\n",
       "      <td>63</td>\n",
       "      <td>0</td>\n",
       "      <td>231</td>\n",
       "      <td>1</td>\n",
       "      <td>1</td>\n",
       "      <td>-1</td>\n",
       "      <td>3.0</td>\n",
       "      <td>0.0</td>\n",
       "      <td>167</td>\n",
       "      <td>-8</td>\n",
       "      <td>21996</td>\n",
       "      <td>0</td>\n",
       "      <td>0.0</td>\n",
       "      <td>1.0</td>\n",
       "      <td>0.0</td>\n",
       "    </tr>\n",
       "    <tr>\n",
       "      <th>4</th>\n",
       "      <td>5</td>\n",
       "      <td>57</td>\n",
       "      <td>0</td>\n",
       "      <td>43</td>\n",
       "      <td>-1</td>\n",
       "      <td>0</td>\n",
       "      <td>0</td>\n",
       "      <td>0.0</td>\n",
       "      <td>0.0</td>\n",
       "      <td>0</td>\n",
       "      <td>0</td>\n",
       "      <td>9</td>\n",
       "      <td>31</td>\n",
       "      <td>0.0</td>\n",
       "      <td>1.0</td>\n",
       "      <td>0.0</td>\n",
       "    </tr>\n",
       "  </tbody>\n",
       "</table>\n",
       "</div>"
      ],
      "text/plain": [
       "   cust_id  cust_age  churn  chiscore_nov  chiscore_nov_dec  suppcase_nov  \\\n",
       "0        1        67      0             0                 0             0   \n",
       "1        2        67      0            62                 4             0   \n",
       "2        3        55      0             0                 0             0   \n",
       "3        4        63      0           231                 1             1   \n",
       "4        5        57      0            43                -1             0   \n",
       "\n",
       "   suppcase_nov_dec  avgspriority_nov  avgspriority_nov_dec  logins_nov_dec  \\\n",
       "0                 0               0.0                   0.0               0   \n",
       "1                 0               0.0                   0.0               0   \n",
       "2                 0               0.0                   0.0               0   \n",
       "3                -1               3.0                   0.0             167   \n",
       "4                 0               0.0                   0.0               0   \n",
       "\n",
       "   blogs_nov_dec  views_nov_dec  days_nov_dec  0 - 6  14 +  7 - 13  \n",
       "0              0              0            31    0.0   1.0     0.0  \n",
       "1              0            -16            31    0.0   1.0     0.0  \n",
       "2              0              0            31    0.0   1.0     0.0  \n",
       "3             -8          21996             0    0.0   1.0     0.0  \n",
       "4              0              9            31    0.0   1.0     0.0  "
      ]
     },
     "execution_count": 13,
     "metadata": {},
     "output_type": "execute_result"
    }
   ],
   "source": [
    "dummies = pd.get_dummies(qwe_data[\"age_group\"])\n",
    "qwe_data_stats_new = pd.merge(qwe_data, dummies, left_index=True, right_index=True)\n",
    "qwe_data_stats_new.drop(\"age_group\", axis=1, inplace=True)\n",
    "qwe_data_stats_new.head(5)"
   ]
  },
  {
   "cell_type": "code",
   "execution_count": 14,
   "metadata": {
    "collapsed": false
   },
   "outputs": [
    {
     "data": {
      "text/html": [
       "<div>\n",
       "<table border=\"1\" class=\"dataframe\">\n",
       "  <thead>\n",
       "    <tr style=\"text-align: right;\">\n",
       "      <th></th>\n",
       "      <th>cust_age</th>\n",
       "      <th>chiscore_nov</th>\n",
       "      <th>chiscore_nov_dec</th>\n",
       "      <th>suppcase_nov</th>\n",
       "      <th>suppcase_nov_dec</th>\n",
       "      <th>avgspriority_nov</th>\n",
       "      <th>avgspriority_nov_dec</th>\n",
       "      <th>logins_nov_dec</th>\n",
       "      <th>blogs_nov_dec</th>\n",
       "      <th>views_nov_dec</th>\n",
       "      <th>days_nov_dec</th>\n",
       "      <th>0 - 6</th>\n",
       "      <th>7 - 13</th>\n",
       "      <th>intercept</th>\n",
       "    </tr>\n",
       "  </thead>\n",
       "  <tbody>\n",
       "    <tr>\n",
       "      <th>0</th>\n",
       "      <td>67</td>\n",
       "      <td>0</td>\n",
       "      <td>0</td>\n",
       "      <td>0</td>\n",
       "      <td>0</td>\n",
       "      <td>0.0</td>\n",
       "      <td>0.0</td>\n",
       "      <td>0</td>\n",
       "      <td>0</td>\n",
       "      <td>0</td>\n",
       "      <td>31</td>\n",
       "      <td>0.0</td>\n",
       "      <td>0.0</td>\n",
       "      <td>1</td>\n",
       "    </tr>\n",
       "    <tr>\n",
       "      <th>1</th>\n",
       "      <td>67</td>\n",
       "      <td>62</td>\n",
       "      <td>4</td>\n",
       "      <td>0</td>\n",
       "      <td>0</td>\n",
       "      <td>0.0</td>\n",
       "      <td>0.0</td>\n",
       "      <td>0</td>\n",
       "      <td>0</td>\n",
       "      <td>-16</td>\n",
       "      <td>31</td>\n",
       "      <td>0.0</td>\n",
       "      <td>0.0</td>\n",
       "      <td>1</td>\n",
       "    </tr>\n",
       "    <tr>\n",
       "      <th>2</th>\n",
       "      <td>55</td>\n",
       "      <td>0</td>\n",
       "      <td>0</td>\n",
       "      <td>0</td>\n",
       "      <td>0</td>\n",
       "      <td>0.0</td>\n",
       "      <td>0.0</td>\n",
       "      <td>0</td>\n",
       "      <td>0</td>\n",
       "      <td>0</td>\n",
       "      <td>31</td>\n",
       "      <td>0.0</td>\n",
       "      <td>0.0</td>\n",
       "      <td>1</td>\n",
       "    </tr>\n",
       "    <tr>\n",
       "      <th>3</th>\n",
       "      <td>63</td>\n",
       "      <td>231</td>\n",
       "      <td>1</td>\n",
       "      <td>1</td>\n",
       "      <td>-1</td>\n",
       "      <td>3.0</td>\n",
       "      <td>0.0</td>\n",
       "      <td>167</td>\n",
       "      <td>-8</td>\n",
       "      <td>21996</td>\n",
       "      <td>0</td>\n",
       "      <td>0.0</td>\n",
       "      <td>0.0</td>\n",
       "      <td>1</td>\n",
       "    </tr>\n",
       "    <tr>\n",
       "      <th>4</th>\n",
       "      <td>57</td>\n",
       "      <td>43</td>\n",
       "      <td>-1</td>\n",
       "      <td>0</td>\n",
       "      <td>0</td>\n",
       "      <td>0.0</td>\n",
       "      <td>0.0</td>\n",
       "      <td>0</td>\n",
       "      <td>0</td>\n",
       "      <td>9</td>\n",
       "      <td>31</td>\n",
       "      <td>0.0</td>\n",
       "      <td>0.0</td>\n",
       "      <td>1</td>\n",
       "    </tr>\n",
       "  </tbody>\n",
       "</table>\n",
       "</div>"
      ],
      "text/plain": [
       "   cust_age  chiscore_nov  chiscore_nov_dec  suppcase_nov  suppcase_nov_dec  \\\n",
       "0        67             0                 0             0                 0   \n",
       "1        67            62                 4             0                 0   \n",
       "2        55             0                 0             0                 0   \n",
       "3        63           231                 1             1                -1   \n",
       "4        57            43                -1             0                 0   \n",
       "\n",
       "   avgspriority_nov  avgspriority_nov_dec  logins_nov_dec  blogs_nov_dec  \\\n",
       "0               0.0                   0.0               0              0   \n",
       "1               0.0                   0.0               0              0   \n",
       "2               0.0                   0.0               0              0   \n",
       "3               3.0                   0.0             167             -8   \n",
       "4               0.0                   0.0               0              0   \n",
       "\n",
       "   views_nov_dec  days_nov_dec  0 - 6  7 - 13  intercept  \n",
       "0              0            31    0.0     0.0          1  \n",
       "1            -16            31    0.0     0.0          1  \n",
       "2              0            31    0.0     0.0          1  \n",
       "3          21996             0    0.0     0.0          1  \n",
       "4              9            31    0.0     0.0          1  "
      ]
     },
     "execution_count": 14,
     "metadata": {},
     "output_type": "execute_result"
    }
   ],
   "source": [
    "qwe_stats_final_x = qwe_data_stats_new.drop([\"cust_id\", \"churn\", \"14 +\"], axis=1)\n",
    "qwe_stats_final_y = qwe_data_stats_new[\"churn\"]\n",
    "qwe_stats_final_x[\"intercept\"] = 1\n",
    "qwe_stats_final_x.head(5)"
   ]
  },
  {
   "cell_type": "code",
   "execution_count": 15,
   "metadata": {
    "collapsed": false
   },
   "outputs": [
    {
     "name": "stdout",
     "output_type": "stream",
     "text": [
      "Optimization terminated successfully.\n",
      "         Current function value: 0.185039\n",
      "         Iterations 8\n"
     ]
    },
    {
     "data": {
      "text/html": [
       "<table class=\"simpletable\">\n",
       "<tr>\n",
       "        <td>Model:</td>              <td>Logit</td>      <td>Pseudo R-squared:</td>    <td>0.080</td>  \n",
       "</tr>\n",
       "<tr>\n",
       "  <td>Dependent Variable:</td>       <td>churn</td>            <td>AIC:</td>         <td>2376.8820</td>\n",
       "</tr>\n",
       "<tr>\n",
       "         <td>Date:</td>        <td>2017-02-25 23:41</td>       <td>BIC:</td>         <td>2471.4623</td>\n",
       "</tr>\n",
       "<tr>\n",
       "   <td>No. Observations:</td>        <td>6347</td>        <td>Log-Likelihood:</td>    <td>-1174.4</td> \n",
       "</tr>\n",
       "<tr>\n",
       "       <td>Df Model:</td>             <td>13</td>            <td>LL-Null:</td>        <td>-1276.6</td> \n",
       "</tr>\n",
       "<tr>\n",
       "     <td>Df Residuals:</td>          <td>6333</td>         <td>LLR p-value:</td>    <td>1.8411e-36</td>\n",
       "</tr>\n",
       "<tr>\n",
       "      <td>Converged:</td>           <td>1.0000</td>           <td>Scale:</td>         <td>1.0000</td>  \n",
       "</tr>\n",
       "<tr>\n",
       "    <td>No. Iterations:</td>        <td>8.0000</td>              <td></td>               <td></td>     \n",
       "</tr>\n",
       "</table>\n",
       "<table class=\"simpletable\">\n",
       "<tr>\n",
       "            <td></td>            <th>Coef.</th>  <th>Std.Err.</th>    <th>z</th>     <th>P>|z|</th> <th>[0.025</th>  <th>0.975]</th> \n",
       "</tr>\n",
       "<tr>\n",
       "  <th>cust_age</th>             <td>-0.0142</td>  <td>0.0093</td>  <td>-1.5250</td> <td>0.1272</td> <td>-0.0325</td> <td>0.0041</td> \n",
       "</tr>\n",
       "<tr>\n",
       "  <th>chiscore_nov</th>         <td>-0.0093</td>  <td>0.0013</td>  <td>-7.1701</td> <td>0.0000</td> <td>-0.0119</td> <td>-0.0068</td>\n",
       "</tr>\n",
       "<tr>\n",
       "  <th>chiscore_nov_dec</th>     <td>-0.0046</td>  <td>0.0026</td>  <td>-1.7816</td> <td>0.0748</td> <td>-0.0096</td> <td>0.0005</td> \n",
       "</tr>\n",
       "<tr>\n",
       "  <th>suppcase_nov</th>         <td>-0.0813</td>  <td>0.1018</td>  <td>-0.7987</td> <td>0.4245</td> <td>-0.2807</td> <td>0.1182</td> \n",
       "</tr>\n",
       "<tr>\n",
       "  <th>suppcase_nov_dec</th>     <td>0.1265</td>   <td>0.0909</td>  <td>1.3917</td>  <td>0.1640</td> <td>-0.0516</td> <td>0.3046</td> \n",
       "</tr>\n",
       "<tr>\n",
       "  <th>avgspriority_nov</th>     <td>-0.0050</td>  <td>0.1010</td>  <td>-0.0498</td> <td>0.9603</td> <td>-0.2030</td> <td>0.1930</td> \n",
       "</tr>\n",
       "<tr>\n",
       "  <th>avgspriority_nov_dec</th> <td>-0.0297</td>  <td>0.0784</td>  <td>-0.3790</td> <td>0.7047</td> <td>-0.1834</td> <td>0.1240</td> \n",
       "</tr>\n",
       "<tr>\n",
       "  <th>logins_nov_dec</th>       <td>0.0005</td>   <td>0.0021</td>  <td>0.2574</td>  <td>0.7969</td> <td>-0.0036</td> <td>0.0047</td> \n",
       "</tr>\n",
       "<tr>\n",
       "  <th>blogs_nov_dec</th>        <td>-0.0009</td>  <td>0.0239</td>  <td>-0.0396</td> <td>0.9684</td> <td>-0.0478</td> <td>0.0459</td> \n",
       "</tr>\n",
       "<tr>\n",
       "  <th>views_nov_dec</th>        <td>-0.0001</td>  <td>0.0000</td>  <td>-2.4683</td> <td>0.0136</td> <td>-0.0002</td> <td>-0.0000</td>\n",
       "</tr>\n",
       "<tr>\n",
       "  <th>days_nov_dec</th>         <td>0.0084</td>   <td>0.0034</td>  <td>2.4368</td>  <td>0.0148</td> <td>0.0016</td>  <td>0.0151</td> \n",
       "</tr>\n",
       "<tr>\n",
       "  <th>0 - 6</th>                <td>-1.7791</td>  <td>0.2777</td>  <td>-6.4068</td> <td>0.0000</td> <td>-2.3233</td> <td>-1.2348</td>\n",
       "</tr>\n",
       "<tr>\n",
       "  <th>7 - 13</th>               <td>0.0785</td>   <td>0.1827</td>  <td>0.4298</td>  <td>0.6673</td> <td>-0.2796</td> <td>0.4366</td> \n",
       "</tr>\n",
       "<tr>\n",
       "  <th>intercept</th>            <td>-1.6285</td>  <td>0.2607</td>  <td>-6.2456</td> <td>0.0000</td> <td>-2.1395</td> <td>-1.1174</td>\n",
       "</tr>\n",
       "</table>"
      ],
      "text/plain": [
       "<class 'statsmodels.iolib.summary2.Summary'>\n",
       "\"\"\"\n",
       "                           Results: Logit\n",
       "====================================================================\n",
       "Model:               Logit             Pseudo R-squared:  0.080     \n",
       "Dependent Variable:  churn             AIC:               2376.8820 \n",
       "Date:                2017-02-25 23:41  BIC:               2471.4623 \n",
       "No. Observations:    6347              Log-Likelihood:    -1174.4   \n",
       "Df Model:            13                LL-Null:           -1276.6   \n",
       "Df Residuals:        6333              LLR p-value:       1.8411e-36\n",
       "Converged:           1.0000            Scale:             1.0000    \n",
       "No. Iterations:      8.0000                                         \n",
       "--------------------------------------------------------------------\n",
       "                      Coef.  Std.Err.    z    P>|z|   [0.025  0.975]\n",
       "--------------------------------------------------------------------\n",
       "cust_age             -0.0142   0.0093 -1.5250 0.1272 -0.0325  0.0041\n",
       "chiscore_nov         -0.0093   0.0013 -7.1701 0.0000 -0.0119 -0.0068\n",
       "chiscore_nov_dec     -0.0046   0.0026 -1.7816 0.0748 -0.0096  0.0005\n",
       "suppcase_nov         -0.0813   0.1018 -0.7987 0.4245 -0.2807  0.1182\n",
       "suppcase_nov_dec      0.1265   0.0909  1.3917 0.1640 -0.0516  0.3046\n",
       "avgspriority_nov     -0.0050   0.1010 -0.0498 0.9603 -0.2030  0.1930\n",
       "avgspriority_nov_dec -0.0297   0.0784 -0.3790 0.7047 -0.1834  0.1240\n",
       "logins_nov_dec        0.0005   0.0021  0.2574 0.7969 -0.0036  0.0047\n",
       "blogs_nov_dec        -0.0009   0.0239 -0.0396 0.9684 -0.0478  0.0459\n",
       "views_nov_dec        -0.0001   0.0000 -2.4683 0.0136 -0.0002 -0.0000\n",
       "days_nov_dec          0.0084   0.0034  2.4368 0.0148  0.0016  0.0151\n",
       "0 - 6                -1.7791   0.2777 -6.4068 0.0000 -2.3233 -1.2348\n",
       "7 - 13                0.0785   0.1827  0.4298 0.6673 -0.2796  0.4366\n",
       "intercept            -1.6285   0.2607 -6.2456 0.0000 -2.1395 -1.1174\n",
       "====================================================================\n",
       "\n",
       "\"\"\""
      ]
     },
     "execution_count": 15,
     "metadata": {},
     "output_type": "execute_result"
    }
   ],
   "source": [
    "logit_final = sm.Logit(qwe_stats_final_y, qwe_stats_final_x)\n",
    "result_final = logit_final.fit()\n",
    "result_final.summary2()"
   ]
  },
  {
   "cell_type": "code",
   "execution_count": 16,
   "metadata": {
    "collapsed": false
   },
   "outputs": [],
   "source": [
    "qwe_data_stats_new[\"churn_prob_final\"] = pd.Series(result_final.predict(qwe_stats_final_x))"
   ]
  },
  {
   "cell_type": "code",
   "execution_count": 17,
   "metadata": {
    "collapsed": false
   },
   "outputs": [
    {
     "data": {
      "text/html": [
       "<div>\n",
       "<table border=\"1\" class=\"dataframe\">\n",
       "  <thead>\n",
       "    <tr style=\"text-align: right;\">\n",
       "      <th></th>\n",
       "      <th>churn</th>\n",
       "      <th>churn_prob_final</th>\n",
       "    </tr>\n",
       "    <tr>\n",
       "      <th>cust_id</th>\n",
       "      <th></th>\n",
       "      <th></th>\n",
       "    </tr>\n",
       "  </thead>\n",
       "  <tbody>\n",
       "    <tr>\n",
       "      <th>357</th>\n",
       "      <td>1</td>\n",
       "      <td>0.370790</td>\n",
       "    </tr>\n",
       "    <tr>\n",
       "      <th>929</th>\n",
       "      <td>0</td>\n",
       "      <td>0.281852</td>\n",
       "    </tr>\n",
       "    <tr>\n",
       "      <th>3604</th>\n",
       "      <td>1</td>\n",
       "      <td>0.231086</td>\n",
       "    </tr>\n",
       "    <tr>\n",
       "      <th>2287</th>\n",
       "      <td>0</td>\n",
       "      <td>0.225121</td>\n",
       "    </tr>\n",
       "    <tr>\n",
       "      <th>3671</th>\n",
       "      <td>0</td>\n",
       "      <td>0.222650</td>\n",
       "    </tr>\n",
       "    <tr>\n",
       "      <th>4292</th>\n",
       "      <td>1</td>\n",
       "      <td>0.222330</td>\n",
       "    </tr>\n",
       "    <tr>\n",
       "      <th>335</th>\n",
       "      <td>1</td>\n",
       "      <td>0.219544</td>\n",
       "    </tr>\n",
       "    <tr>\n",
       "      <th>3569</th>\n",
       "      <td>1</td>\n",
       "      <td>0.213239</td>\n",
       "    </tr>\n",
       "    <tr>\n",
       "      <th>4276</th>\n",
       "      <td>0</td>\n",
       "      <td>0.210152</td>\n",
       "    </tr>\n",
       "    <tr>\n",
       "      <th>4245</th>\n",
       "      <td>0</td>\n",
       "      <td>0.204189</td>\n",
       "    </tr>\n",
       "    <tr>\n",
       "      <th>1021</th>\n",
       "      <td>1</td>\n",
       "      <td>0.203590</td>\n",
       "    </tr>\n",
       "    <tr>\n",
       "      <th>3766</th>\n",
       "      <td>0</td>\n",
       "      <td>0.201452</td>\n",
       "    </tr>\n",
       "    <tr>\n",
       "      <th>4532</th>\n",
       "      <td>0</td>\n",
       "      <td>0.201250</td>\n",
       "    </tr>\n",
       "    <tr>\n",
       "      <th>991</th>\n",
       "      <td>0</td>\n",
       "      <td>0.200800</td>\n",
       "    </tr>\n",
       "    <tr>\n",
       "      <th>1672</th>\n",
       "      <td>1</td>\n",
       "      <td>0.200724</td>\n",
       "    </tr>\n",
       "    <tr>\n",
       "      <th>240</th>\n",
       "      <td>0</td>\n",
       "      <td>0.200620</td>\n",
       "    </tr>\n",
       "    <tr>\n",
       "      <th>3340</th>\n",
       "      <td>1</td>\n",
       "      <td>0.200354</td>\n",
       "    </tr>\n",
       "    <tr>\n",
       "      <th>2025</th>\n",
       "      <td>0</td>\n",
       "      <td>0.200291</td>\n",
       "    </tr>\n",
       "  </tbody>\n",
       "</table>\n",
       "</div>"
      ],
      "text/plain": [
       "         churn  churn_prob_final\n",
       "cust_id                         \n",
       "357          1          0.370790\n",
       "929          0          0.281852\n",
       "3604         1          0.231086\n",
       "2287         0          0.225121\n",
       "3671         0          0.222650\n",
       "4292         1          0.222330\n",
       "335          1          0.219544\n",
       "3569         1          0.213239\n",
       "4276         0          0.210152\n",
       "4245         0          0.204189\n",
       "1021         1          0.203590\n",
       "3766         0          0.201452\n",
       "4532         0          0.201250\n",
       "991          0          0.200800\n",
       "1672         1          0.200724\n",
       "240          0          0.200620\n",
       "3340         1          0.200354\n",
       "2025         0          0.200291"
      ]
     },
     "execution_count": 17,
     "metadata": {},
     "output_type": "execute_result"
    }
   ],
   "source": [
    "final_list = qwe_data_stats_new[qwe_data_stats_new[\"churn_prob_final\"] >= 0.2]\n",
    "final_list.set_index(\"cust_id\", inplace=True)\n",
    "final_list[[\"churn\", \"churn_prob_final\"]].sort_values(\"churn_prob_final\", ascending=False)"
   ]
  },
  {
   "cell_type": "code",
   "execution_count": 18,
   "metadata": {
    "collapsed": false
   },
   "outputs": [],
   "source": [
    "from sklearn.metrics import roc_curve, auc\n",
    "false_positive_rate, true_positive_rate, thresholds = roc_curve(qwe_data_stats_new[\"churn\"], qwe_data_stats_new[\"churn_prob_final\"])\n",
    "roc_auc = auc(false_positive_rate, true_positive_rate)"
   ]
  },
  {
   "cell_type": "code",
   "execution_count": 19,
   "metadata": {
    "collapsed": false
   },
   "outputs": [
    {
     "data": {
      "text/plain": [
       "<matplotlib.text.Text at 0x10d079710>"
      ]
     },
     "execution_count": 19,
     "metadata": {},
     "output_type": "execute_result"
    },
    {
     "data": {
      "image/png": "[encoded data removed]",
      "text/plain": [
       "<matplotlib.figure.Figure at 0x10d2fd710>"
      ]
     },
     "metadata": {},
     "output_type": "display_data"
    }
   ],
   "source": [
    "fig, ax = plt.subplots()\n",
    "fig.set_size_inches(7, 5)\n",
    "plt.title('ROC Curve')\n",
    "plt.plot(false_positive_rate, true_positive_rate,\n",
    "         label='AUC = %0.2f'% roc_auc)\n",
    "plt.legend(loc='lower right')\n",
    "plt.plot([0,1],[0,1], linestyle='--')\n",
    "plt.xlim([-0.1,1.1])\n",
    "plt.ylim([-0.1,1.1])\n",
    "plt.ylabel('True Positive Rate')\n",
    "plt.xlabel('False Positive Rate')"
   ]
  }
 ],
 "metadata": {
  "anaconda-cloud": {
   "attach-environment": true,
   "summary": "Case 3 for BT4211",
   "url": "https://anaconda.org/terryluzijian/case-3-revised"
  },
  "kernelspec": {
   "display_name": "Python [default]",
   "language": "python",
   "name": "python3"
  },
  "language_info": {
   "codemirror_mode": {
    "name": "ipython",
    "version": 3
   },
   "file_extension": ".py",
   "mimetype": "text/x-python",
   "name": "python",
   "nbconvert_exporter": "python",
   "pygments_lexer": "ipython3",
   "version": "3.5.2"
  }
 },
 "nbformat": 4,
 "nbformat_minor": 1
}
